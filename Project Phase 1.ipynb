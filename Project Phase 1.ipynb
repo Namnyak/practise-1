{
 "cells": [
  {
   "cell_type": "markdown",
   "metadata": {},
   "source": [
    "# Aviation Accident Database & Synopses, up to 2023"
   ]
  },
  {
   "cell_type": "markdown",
   "metadata": {},
   "source": [
    "## Overview\n",
    "\n",
    "This project analyzes data from the \"Aviation Accident Database & Synopses\" dataset to identify the safest and most cost-effective aircraft for a company looking to expand into the aviation industry. By reviewing accident and incident data, aircraft safety records, maintenance issues, and operational contexts, the project aims to provide actionable insights for minimizing risks and optimizing operational efficiency.\n"
   ]
  },
  {
   "cell_type": "markdown",
   "metadata": {},
   "source": [
    "## Business Understanding\n",
    "\n",
    "As the company diversifies its portfolio into the aviation sector, it faces significant risks\n",
    "associated with aircraft safety, maintenance costs, and operational efficiency. Selecting the right \n",
    "aircraft is crucial for ensuring the success of this new business endeavor. The aviation industry is \n",
    "highly competitive and regulated, requiring careful consideration of multiple factors to ensure safe,\n",
    "reliable, and cost-effective operations."
   ]
  },
  {
   "cell_type": "markdown",
   "metadata": {},
   "source": [
    "## Data Understanding\n",
    "\n",
    "\n",
    "The \"Aviation Accident Database & Synopses, up to 2023\" from Kaggle is a comprehensive dataset \n",
    "containing detailed information about aviation accidents and incidents. This dataset provides critical\n",
    "insights into various aspects of aviation safety and operational efficiency. \n",
    "For our analysis, we focus on the following key components of the dataset:\n",
    "\n",
    "\n",
    "Accident and Incident Data: This includes detailed records of aviation accidents and incidents, \n",
    "                    encompassing data points such as the date, location, and severity of each event                  \n",
    "Aircraft Information: Details about the aircraft involved in each accident or incident, including \n",
    "                      model, manufacturer, and registration.\n",
    "                      \n",
    "Synopsis: Brief summaries of each accident or incident, providing context and initial findings.\n",
    "Cause and Contributing Factors: Information on the identified causes and contributing factors for\n",
    "                      each event.\n",
    "                      \n",
    "Human Factors: Data on pilot and crew performance, errors, and other human-related aspects.\n",
    "Weather Conditions: Weather data at the time of each accident or incident.\n",
    "\n",
    "Operational Context: Information about the flight phase (e.g., takeoff, cruise, landing) and operation\n",
    "                     type (e.g., commercial, private, cargo)."
   ]
  },
  {
   "cell_type": "markdown",
   "metadata": {},
   "source": [
    "## IMPORTS AND DATA"
   ]
  },
  {
   "cell_type": "code",
   "execution_count": 95,
   "metadata": {},
   "outputs": [],
   "source": [
    "# importing packages\n",
    "import pandas as pd\n",
    "import numpy as np\n",
    "import seaborn as sns\n",
    "import matplotlib.pyplot as plt\n",
    "%matplotlib inline"
   ]
  },
  {
   "cell_type": "code",
   "execution_count": null,
   "metadata": {},
   "outputs": [],
   "source": []
  },
  {
   "cell_type": "code",
   "execution_count": 96,
   "metadata": {},
   "outputs": [
    {
     "name": "stderr",
     "output_type": "stream",
     "text": [
      "C:\\Users\\Lenovo\\anaconda3\\envs\\learn-env\\lib\\site-packages\\IPython\\core\\interactiveshell.py:3145: DtypeWarning: Columns (6,7,28) have mixed types.Specify dtype option on import or set low_memory=False.\n",
      "  has_raised = await self.run_ast_nodes(code_ast.body, cell_name,\n"
     ]
    },
    {
     "data": {
      "text/html": [
       "<div>\n",
       "<style scoped>\n",
       "    .dataframe tbody tr th:only-of-type {\n",
       "        vertical-align: middle;\n",
       "    }\n",
       "\n",
       "    .dataframe tbody tr th {\n",
       "        vertical-align: top;\n",
       "    }\n",
       "\n",
       "    .dataframe thead th {\n",
       "        text-align: right;\n",
       "    }\n",
       "</style>\n",
       "<table border=\"1\" class=\"dataframe\">\n",
       "  <thead>\n",
       "    <tr style=\"text-align: right;\">\n",
       "      <th></th>\n",
       "      <th>Event.Id</th>\n",
       "      <th>Investigation.Type</th>\n",
       "      <th>Accident.Number</th>\n",
       "      <th>Event.Date</th>\n",
       "      <th>Location</th>\n",
       "      <th>Country</th>\n",
       "      <th>Latitude</th>\n",
       "      <th>Longitude</th>\n",
       "      <th>Airport.Code</th>\n",
       "      <th>Airport.Name</th>\n",
       "      <th>...</th>\n",
       "      <th>Purpose.of.flight</th>\n",
       "      <th>Air.carrier</th>\n",
       "      <th>Total.Fatal.Injuries</th>\n",
       "      <th>Total.Serious.Injuries</th>\n",
       "      <th>Total.Minor.Injuries</th>\n",
       "      <th>Total.Uninjured</th>\n",
       "      <th>Weather.Condition</th>\n",
       "      <th>Broad.phase.of.flight</th>\n",
       "      <th>Report.Status</th>\n",
       "      <th>Publication.Date</th>\n",
       "    </tr>\n",
       "  </thead>\n",
       "  <tbody>\n",
       "    <tr>\n",
       "      <th>0</th>\n",
       "      <td>20001218X45444</td>\n",
       "      <td>Accident</td>\n",
       "      <td>SEA87LA080</td>\n",
       "      <td>10/24/1948</td>\n",
       "      <td>MOOSE CREEK, ID</td>\n",
       "      <td>United States</td>\n",
       "      <td>NaN</td>\n",
       "      <td>NaN</td>\n",
       "      <td>NaN</td>\n",
       "      <td>NaN</td>\n",
       "      <td>...</td>\n",
       "      <td>Personal</td>\n",
       "      <td>NaN</td>\n",
       "      <td>2.0</td>\n",
       "      <td>0.0</td>\n",
       "      <td>0.0</td>\n",
       "      <td>0.0</td>\n",
       "      <td>UNK</td>\n",
       "      <td>Cruise</td>\n",
       "      <td>Probable Cause</td>\n",
       "      <td>NaN</td>\n",
       "    </tr>\n",
       "    <tr>\n",
       "      <th>1</th>\n",
       "      <td>20001218X45447</td>\n",
       "      <td>Accident</td>\n",
       "      <td>LAX94LA336</td>\n",
       "      <td>7/19/1962</td>\n",
       "      <td>BRIDGEPORT, CA</td>\n",
       "      <td>United States</td>\n",
       "      <td>NaN</td>\n",
       "      <td>NaN</td>\n",
       "      <td>NaN</td>\n",
       "      <td>NaN</td>\n",
       "      <td>...</td>\n",
       "      <td>Personal</td>\n",
       "      <td>NaN</td>\n",
       "      <td>4.0</td>\n",
       "      <td>0.0</td>\n",
       "      <td>0.0</td>\n",
       "      <td>0.0</td>\n",
       "      <td>UNK</td>\n",
       "      <td>Unknown</td>\n",
       "      <td>Probable Cause</td>\n",
       "      <td>19-09-1996</td>\n",
       "    </tr>\n",
       "    <tr>\n",
       "      <th>2</th>\n",
       "      <td>20061025X01555</td>\n",
       "      <td>Accident</td>\n",
       "      <td>NYC07LA005</td>\n",
       "      <td>8/30/1974</td>\n",
       "      <td>Saltville, VA</td>\n",
       "      <td>United States</td>\n",
       "      <td>36.9222</td>\n",
       "      <td>-81.8781</td>\n",
       "      <td>NaN</td>\n",
       "      <td>NaN</td>\n",
       "      <td>...</td>\n",
       "      <td>Personal</td>\n",
       "      <td>NaN</td>\n",
       "      <td>3.0</td>\n",
       "      <td>NaN</td>\n",
       "      <td>NaN</td>\n",
       "      <td>NaN</td>\n",
       "      <td>IMC</td>\n",
       "      <td>Cruise</td>\n",
       "      <td>Probable Cause</td>\n",
       "      <td>26-02-2007</td>\n",
       "    </tr>\n",
       "    <tr>\n",
       "      <th>3</th>\n",
       "      <td>20001218X45448</td>\n",
       "      <td>Accident</td>\n",
       "      <td>LAX96LA321</td>\n",
       "      <td>6/19/1977</td>\n",
       "      <td>EUREKA, CA</td>\n",
       "      <td>United States</td>\n",
       "      <td>NaN</td>\n",
       "      <td>NaN</td>\n",
       "      <td>NaN</td>\n",
       "      <td>NaN</td>\n",
       "      <td>...</td>\n",
       "      <td>Personal</td>\n",
       "      <td>NaN</td>\n",
       "      <td>2.0</td>\n",
       "      <td>0.0</td>\n",
       "      <td>0.0</td>\n",
       "      <td>0.0</td>\n",
       "      <td>IMC</td>\n",
       "      <td>Cruise</td>\n",
       "      <td>Probable Cause</td>\n",
       "      <td>12/9/2000</td>\n",
       "    </tr>\n",
       "    <tr>\n",
       "      <th>4</th>\n",
       "      <td>20041105X01764</td>\n",
       "      <td>Accident</td>\n",
       "      <td>CHI79FA064</td>\n",
       "      <td>8/2/1979</td>\n",
       "      <td>Canton, OH</td>\n",
       "      <td>United States</td>\n",
       "      <td>NaN</td>\n",
       "      <td>NaN</td>\n",
       "      <td>NaN</td>\n",
       "      <td>NaN</td>\n",
       "      <td>...</td>\n",
       "      <td>Personal</td>\n",
       "      <td>NaN</td>\n",
       "      <td>1.0</td>\n",
       "      <td>2.0</td>\n",
       "      <td>NaN</td>\n",
       "      <td>0.0</td>\n",
       "      <td>VMC</td>\n",
       "      <td>Approach</td>\n",
       "      <td>Probable Cause</td>\n",
       "      <td>16-04-1980</td>\n",
       "    </tr>\n",
       "    <tr>\n",
       "      <th>...</th>\n",
       "      <td>...</td>\n",
       "      <td>...</td>\n",
       "      <td>...</td>\n",
       "      <td>...</td>\n",
       "      <td>...</td>\n",
       "      <td>...</td>\n",
       "      <td>...</td>\n",
       "      <td>...</td>\n",
       "      <td>...</td>\n",
       "      <td>...</td>\n",
       "      <td>...</td>\n",
       "      <td>...</td>\n",
       "      <td>...</td>\n",
       "      <td>...</td>\n",
       "      <td>...</td>\n",
       "      <td>...</td>\n",
       "      <td>...</td>\n",
       "      <td>...</td>\n",
       "      <td>...</td>\n",
       "      <td>...</td>\n",
       "      <td>...</td>\n",
       "    </tr>\n",
       "    <tr>\n",
       "      <th>88884</th>\n",
       "      <td>2.02212E+13</td>\n",
       "      <td>Accident</td>\n",
       "      <td>ERA23LA093</td>\n",
       "      <td>12/26/2022</td>\n",
       "      <td>Annapolis, MD</td>\n",
       "      <td>United States</td>\n",
       "      <td>NaN</td>\n",
       "      <td>NaN</td>\n",
       "      <td>NaN</td>\n",
       "      <td>NaN</td>\n",
       "      <td>...</td>\n",
       "      <td>Personal</td>\n",
       "      <td>NaN</td>\n",
       "      <td>0.0</td>\n",
       "      <td>1.0</td>\n",
       "      <td>0.0</td>\n",
       "      <td>0.0</td>\n",
       "      <td>NaN</td>\n",
       "      <td>NaN</td>\n",
       "      <td>NaN</td>\n",
       "      <td>29-12-2022</td>\n",
       "    </tr>\n",
       "    <tr>\n",
       "      <th>88885</th>\n",
       "      <td>2.02212E+13</td>\n",
       "      <td>Accident</td>\n",
       "      <td>ERA23LA095</td>\n",
       "      <td>12/26/2022</td>\n",
       "      <td>Hampton, NH</td>\n",
       "      <td>United States</td>\n",
       "      <td>NaN</td>\n",
       "      <td>NaN</td>\n",
       "      <td>NaN</td>\n",
       "      <td>NaN</td>\n",
       "      <td>...</td>\n",
       "      <td>NaN</td>\n",
       "      <td>NaN</td>\n",
       "      <td>0.0</td>\n",
       "      <td>0.0</td>\n",
       "      <td>0.0</td>\n",
       "      <td>0.0</td>\n",
       "      <td>NaN</td>\n",
       "      <td>NaN</td>\n",
       "      <td>NaN</td>\n",
       "      <td>NaN</td>\n",
       "    </tr>\n",
       "    <tr>\n",
       "      <th>88886</th>\n",
       "      <td>2.02212E+13</td>\n",
       "      <td>Accident</td>\n",
       "      <td>WPR23LA075</td>\n",
       "      <td>12/26/2022</td>\n",
       "      <td>Payson, AZ</td>\n",
       "      <td>United States</td>\n",
       "      <td>341525N</td>\n",
       "      <td>1112021W</td>\n",
       "      <td>PAN</td>\n",
       "      <td>PAYSON</td>\n",
       "      <td>...</td>\n",
       "      <td>Personal</td>\n",
       "      <td>NaN</td>\n",
       "      <td>0.0</td>\n",
       "      <td>0.0</td>\n",
       "      <td>0.0</td>\n",
       "      <td>1.0</td>\n",
       "      <td>VMC</td>\n",
       "      <td>NaN</td>\n",
       "      <td>NaN</td>\n",
       "      <td>27-12-2022</td>\n",
       "    </tr>\n",
       "    <tr>\n",
       "      <th>88887</th>\n",
       "      <td>2.02212E+13</td>\n",
       "      <td>Accident</td>\n",
       "      <td>WPR23LA076</td>\n",
       "      <td>12/26/2022</td>\n",
       "      <td>Morgan, UT</td>\n",
       "      <td>United States</td>\n",
       "      <td>NaN</td>\n",
       "      <td>NaN</td>\n",
       "      <td>NaN</td>\n",
       "      <td>NaN</td>\n",
       "      <td>...</td>\n",
       "      <td>Personal</td>\n",
       "      <td>MC CESSNA 210N LLC</td>\n",
       "      <td>0.0</td>\n",
       "      <td>0.0</td>\n",
       "      <td>0.0</td>\n",
       "      <td>0.0</td>\n",
       "      <td>NaN</td>\n",
       "      <td>NaN</td>\n",
       "      <td>NaN</td>\n",
       "      <td>NaN</td>\n",
       "    </tr>\n",
       "    <tr>\n",
       "      <th>88888</th>\n",
       "      <td>2.02212E+13</td>\n",
       "      <td>Accident</td>\n",
       "      <td>ERA23LA097</td>\n",
       "      <td>12/29/2022</td>\n",
       "      <td>Athens, GA</td>\n",
       "      <td>United States</td>\n",
       "      <td>NaN</td>\n",
       "      <td>NaN</td>\n",
       "      <td>NaN</td>\n",
       "      <td>NaN</td>\n",
       "      <td>...</td>\n",
       "      <td>Personal</td>\n",
       "      <td>NaN</td>\n",
       "      <td>0.0</td>\n",
       "      <td>1.0</td>\n",
       "      <td>0.0</td>\n",
       "      <td>1.0</td>\n",
       "      <td>NaN</td>\n",
       "      <td>NaN</td>\n",
       "      <td>NaN</td>\n",
       "      <td>30-12-2022</td>\n",
       "    </tr>\n",
       "  </tbody>\n",
       "</table>\n",
       "<p>88889 rows × 31 columns</p>\n",
       "</div>"
      ],
      "text/plain": [
       "             Event.Id Investigation.Type Accident.Number  Event.Date  \\\n",
       "0      20001218X45444           Accident      SEA87LA080  10/24/1948   \n",
       "1      20001218X45447           Accident      LAX94LA336   7/19/1962   \n",
       "2      20061025X01555           Accident      NYC07LA005   8/30/1974   \n",
       "3      20001218X45448           Accident      LAX96LA321   6/19/1977   \n",
       "4      20041105X01764           Accident      CHI79FA064    8/2/1979   \n",
       "...               ...                ...             ...         ...   \n",
       "88884     2.02212E+13           Accident      ERA23LA093  12/26/2022   \n",
       "88885     2.02212E+13           Accident      ERA23LA095  12/26/2022   \n",
       "88886     2.02212E+13           Accident      WPR23LA075  12/26/2022   \n",
       "88887     2.02212E+13           Accident      WPR23LA076  12/26/2022   \n",
       "88888     2.02212E+13           Accident      ERA23LA097  12/29/2022   \n",
       "\n",
       "              Location        Country Latitude Longitude Airport.Code  \\\n",
       "0      MOOSE CREEK, ID  United States      NaN       NaN          NaN   \n",
       "1       BRIDGEPORT, CA  United States      NaN       NaN          NaN   \n",
       "2        Saltville, VA  United States  36.9222  -81.8781          NaN   \n",
       "3           EUREKA, CA  United States      NaN       NaN          NaN   \n",
       "4           Canton, OH  United States      NaN       NaN          NaN   \n",
       "...                ...            ...      ...       ...          ...   \n",
       "88884    Annapolis, MD  United States      NaN       NaN          NaN   \n",
       "88885      Hampton, NH  United States      NaN       NaN          NaN   \n",
       "88886       Payson, AZ  United States  341525N  1112021W          PAN   \n",
       "88887       Morgan, UT  United States      NaN       NaN          NaN   \n",
       "88888       Athens, GA  United States      NaN       NaN          NaN   \n",
       "\n",
       "      Airport.Name  ... Purpose.of.flight         Air.carrier  \\\n",
       "0              NaN  ...          Personal                 NaN   \n",
       "1              NaN  ...          Personal                 NaN   \n",
       "2              NaN  ...          Personal                 NaN   \n",
       "3              NaN  ...          Personal                 NaN   \n",
       "4              NaN  ...          Personal                 NaN   \n",
       "...            ...  ...               ...                 ...   \n",
       "88884          NaN  ...          Personal                 NaN   \n",
       "88885          NaN  ...               NaN                 NaN   \n",
       "88886       PAYSON  ...          Personal                 NaN   \n",
       "88887          NaN  ...          Personal  MC CESSNA 210N LLC   \n",
       "88888          NaN  ...          Personal                 NaN   \n",
       "\n",
       "      Total.Fatal.Injuries Total.Serious.Injuries Total.Minor.Injuries  \\\n",
       "0                      2.0                    0.0                  0.0   \n",
       "1                      4.0                    0.0                  0.0   \n",
       "2                      3.0                    NaN                  NaN   \n",
       "3                      2.0                    0.0                  0.0   \n",
       "4                      1.0                    2.0                  NaN   \n",
       "...                    ...                    ...                  ...   \n",
       "88884                  0.0                    1.0                  0.0   \n",
       "88885                  0.0                    0.0                  0.0   \n",
       "88886                  0.0                    0.0                  0.0   \n",
       "88887                  0.0                    0.0                  0.0   \n",
       "88888                  0.0                    1.0                  0.0   \n",
       "\n",
       "      Total.Uninjured Weather.Condition  Broad.phase.of.flight  \\\n",
       "0                 0.0               UNK                 Cruise   \n",
       "1                 0.0               UNK                Unknown   \n",
       "2                 NaN               IMC                 Cruise   \n",
       "3                 0.0               IMC                 Cruise   \n",
       "4                 0.0               VMC               Approach   \n",
       "...               ...               ...                    ...   \n",
       "88884             0.0               NaN                    NaN   \n",
       "88885             0.0               NaN                    NaN   \n",
       "88886             1.0               VMC                    NaN   \n",
       "88887             0.0               NaN                    NaN   \n",
       "88888             1.0               NaN                    NaN   \n",
       "\n",
       "        Report.Status Publication.Date  \n",
       "0      Probable Cause              NaN  \n",
       "1      Probable Cause       19-09-1996  \n",
       "2      Probable Cause       26-02-2007  \n",
       "3      Probable Cause        12/9/2000  \n",
       "4      Probable Cause       16-04-1980  \n",
       "...               ...              ...  \n",
       "88884             NaN       29-12-2022  \n",
       "88885             NaN              NaN  \n",
       "88886             NaN       27-12-2022  \n",
       "88887             NaN              NaN  \n",
       "88888             NaN       30-12-2022  \n",
       "\n",
       "[88889 rows x 31 columns]"
      ]
     },
     "execution_count": 96,
     "metadata": {},
     "output_type": "execute_result"
    }
   ],
   "source": [
    "#Loading the Aviation data\n",
    "df = pd.read_csv('AviationData.csv', encoding='ISO-8859-1')\n",
    "df"
   ]
  },
  {
   "cell_type": "code",
   "execution_count": 97,
   "metadata": {},
   "outputs": [
    {
     "name": "stdout",
     "output_type": "stream",
     "text": [
      "<class 'pandas.core.frame.DataFrame'>\n",
      "RangeIndex: 88889 entries, 0 to 88888\n",
      "Data columns (total 31 columns):\n",
      " #   Column                  Non-Null Count  Dtype  \n",
      "---  ------                  --------------  -----  \n",
      " 0   Event.Id                88889 non-null  object \n",
      " 1   Investigation.Type      88889 non-null  object \n",
      " 2   Accident.Number         88889 non-null  object \n",
      " 3   Event.Date              88889 non-null  object \n",
      " 4   Location                88837 non-null  object \n",
      " 5   Country                 88663 non-null  object \n",
      " 6   Latitude                34382 non-null  object \n",
      " 7   Longitude               34373 non-null  object \n",
      " 8   Airport.Code            50249 non-null  object \n",
      " 9   Airport.Name            52790 non-null  object \n",
      " 10  Injury.Severity         87889 non-null  object \n",
      " 11  Aircraft.damage         85695 non-null  object \n",
      " 12  Aircraft.Category       32287 non-null  object \n",
      " 13  Registration.Number     87572 non-null  object \n",
      " 14  Make                    88826 non-null  object \n",
      " 15  Model                   88797 non-null  object \n",
      " 16  Amateur.Built           88787 non-null  object \n",
      " 17  Number.of.Engines       82805 non-null  float64\n",
      " 18  Engine.Type             81812 non-null  object \n",
      " 19  FAR.Description         32023 non-null  object \n",
      " 20  Schedule                12582 non-null  object \n",
      " 21  Purpose.of.flight       82697 non-null  object \n",
      " 22  Air.carrier             16648 non-null  object \n",
      " 23  Total.Fatal.Injuries    77488 non-null  float64\n",
      " 24  Total.Serious.Injuries  76379 non-null  float64\n",
      " 25  Total.Minor.Injuries    76956 non-null  float64\n",
      " 26  Total.Uninjured         82977 non-null  float64\n",
      " 27  Weather.Condition       84397 non-null  object \n",
      " 28  Broad.phase.of.flight   61724 non-null  object \n",
      " 29  Report.Status           82508 non-null  object \n",
      " 30  Publication.Date        75118 non-null  object \n",
      "dtypes: float64(5), object(26)\n",
      "memory usage: 21.0+ MB\n"
     ]
    }
   ],
   "source": [
    "#Finding summary statistics about our data\n",
    "df.info()"
   ]
  },
  {
   "cell_type": "code",
   "execution_count": 98,
   "metadata": {},
   "outputs": [
    {
     "data": {
      "text/plain": [
       "(88889, 31)"
      ]
     },
     "execution_count": 98,
     "metadata": {},
     "output_type": "execute_result"
    }
   ],
   "source": [
    "#Getting the dimensions of the dataframe\n",
    "df.shape"
   ]
  },
  {
   "cell_type": "markdown",
   "metadata": {},
   "source": [
    "## Handling Missing Values in the dataframe"
   ]
  },
  {
   "cell_type": "markdown",
   "metadata": {},
   "source": [
    "Based on the summary statistics, many columns have missing values. Columns with over 50% missing data\n",
    "will be dropped, while the remaining columns will be addressed by filling in or replacing the missing \n",
    "values according to the data analysis.\n",
    "\n",
    "We will now count the missing values in the dataframe to identify which columns have more than 50%\n",
    "missing values."
   ]
  },
  {
   "cell_type": "code",
   "execution_count": 99,
   "metadata": {},
   "outputs": [
    {
     "data": {
      "text/plain": [
       "Event.Id                      0\n",
       "Investigation.Type            0\n",
       "Accident.Number               0\n",
       "Event.Date                    0\n",
       "Location                     52\n",
       "Country                     226\n",
       "Latitude                  54507\n",
       "Longitude                 54516\n",
       "Airport.Code              38640\n",
       "Airport.Name              36099\n",
       "Injury.Severity            1000\n",
       "Aircraft.damage            3194\n",
       "Aircraft.Category         56602\n",
       "Registration.Number        1317\n",
       "Make                         63\n",
       "Model                        92\n",
       "Amateur.Built               102\n",
       "Number.of.Engines          6084\n",
       "Engine.Type                7077\n",
       "FAR.Description           56866\n",
       "Schedule                  76307\n",
       "Purpose.of.flight          6192\n",
       "Air.carrier               72241\n",
       "Total.Fatal.Injuries      11401\n",
       "Total.Serious.Injuries    12510\n",
       "Total.Minor.Injuries      11933\n",
       "Total.Uninjured            5912\n",
       "Weather.Condition          4492\n",
       "Broad.phase.of.flight     27165\n",
       "Report.Status              6381\n",
       "Publication.Date          13771\n",
       "dtype: int64"
      ]
     },
     "execution_count": 99,
     "metadata": {},
     "output_type": "execute_result"
    }
   ],
   "source": [
    "#finding the sum of the missing values in the dataframe\n",
    "\n",
    "df.isna().sum()"
   ]
  },
  {
   "cell_type": "code",
   "execution_count": null,
   "metadata": {},
   "outputs": [],
   "source": []
  },
  {
   "cell_type": "code",
   "execution_count": 100,
   "metadata": {},
   "outputs": [
    {
     "data": {
      "text/plain": [
       "Event.Id                   0.000000\n",
       "Investigation.Type         0.000000\n",
       "Accident.Number            0.000000\n",
       "Event.Date                 0.000000\n",
       "Location                   0.058500\n",
       "Country                    0.254250\n",
       "Latitude                  61.320298\n",
       "Longitude                 61.330423\n",
       "Airport.Code              43.469946\n",
       "Airport.Name              40.611324\n",
       "Injury.Severity            1.124999\n",
       "Aircraft.damage            3.593246\n",
       "Aircraft.Category         63.677170\n",
       "Registration.Number        1.481623\n",
       "Make                       0.070875\n",
       "Model                      0.103500\n",
       "Amateur.Built              0.114750\n",
       "Number.of.Engines          6.844491\n",
       "Engine.Type                7.961615\n",
       "FAR.Description           63.974170\n",
       "Schedule                  85.845268\n",
       "Purpose.of.flight          6.965991\n",
       "Air.carrier               81.271023\n",
       "Total.Fatal.Injuries      12.826109\n",
       "Total.Serious.Injuries    14.073732\n",
       "Total.Minor.Injuries      13.424608\n",
       "Total.Uninjured            6.650992\n",
       "Weather.Condition          5.053494\n",
       "Broad.phase.of.flight     30.560587\n",
       "Report.Status              7.178616\n",
       "Publication.Date          15.492356\n",
       "dtype: float64"
      ]
     },
     "execution_count": 100,
     "metadata": {},
     "output_type": "execute_result"
    }
   ],
   "source": [
    "#Getting the percentage of missing values in the dataframe\n",
    "percent_missing = ((df.isna().sum())/88889)*100\n",
    "percent_missing"
   ]
  },
  {
   "cell_type": "markdown",
   "metadata": {},
   "source": [
    "From the statistics above, nearly half of the columns with missing data have over 50% missing values.\n",
    "Since this amount of data is insufficient and may not contribute meaningfully to the analysis,\n",
    "we will drop these columns."
   ]
  },
  {
   "cell_type": "code",
   "execution_count": 101,
   "metadata": {},
   "outputs": [
    {
     "data": {
      "text/plain": [
       "Index(['Latitude', 'Longitude', 'Aircraft.Category', 'FAR.Description',\n",
       "       'Schedule', 'Air.carrier'],\n",
       "      dtype='object')"
      ]
     },
     "execution_count": 101,
     "metadata": {},
     "output_type": "execute_result"
    }
   ],
   "source": [
    "#dropping columns with missing percentage greater than 50%\n",
    "greater_50 = percent_missing[percent_missing>50].index\n",
    "df.drop(labels=greater_50, inplace=True, axis=1)\n",
    "\n",
    "greater_50"
   ]
  },
  {
   "cell_type": "code",
   "execution_count": 102,
   "metadata": {},
   "outputs": [
    {
     "name": "stdout",
     "output_type": "stream",
     "text": [
      "<class 'pandas.core.frame.DataFrame'>\n",
      "RangeIndex: 88889 entries, 0 to 88888\n",
      "Data columns (total 25 columns):\n",
      " #   Column                  Non-Null Count  Dtype  \n",
      "---  ------                  --------------  -----  \n",
      " 0   Event.Id                88889 non-null  object \n",
      " 1   Investigation.Type      88889 non-null  object \n",
      " 2   Accident.Number         88889 non-null  object \n",
      " 3   Event.Date              88889 non-null  object \n",
      " 4   Location                88837 non-null  object \n",
      " 5   Country                 88663 non-null  object \n",
      " 6   Airport.Code            50249 non-null  object \n",
      " 7   Airport.Name            52790 non-null  object \n",
      " 8   Injury.Severity         87889 non-null  object \n",
      " 9   Aircraft.damage         85695 non-null  object \n",
      " 10  Registration.Number     87572 non-null  object \n",
      " 11  Make                    88826 non-null  object \n",
      " 12  Model                   88797 non-null  object \n",
      " 13  Amateur.Built           88787 non-null  object \n",
      " 14  Number.of.Engines       82805 non-null  float64\n",
      " 15  Engine.Type             81812 non-null  object \n",
      " 16  Purpose.of.flight       82697 non-null  object \n",
      " 17  Total.Fatal.Injuries    77488 non-null  float64\n",
      " 18  Total.Serious.Injuries  76379 non-null  float64\n",
      " 19  Total.Minor.Injuries    76956 non-null  float64\n",
      " 20  Total.Uninjured         82977 non-null  float64\n",
      " 21  Weather.Condition       84397 non-null  object \n",
      " 22  Broad.phase.of.flight   61724 non-null  object \n",
      " 23  Report.Status           82508 non-null  object \n",
      " 24  Publication.Date        75118 non-null  object \n",
      "dtypes: float64(5), object(20)\n",
      "memory usage: 17.0+ MB\n"
     ]
    }
   ],
   "source": [
    "#confirming if the columns with more than 50% missing values, have been dropped.\n",
    "df.info()"
   ]
  },
  {
   "cell_type": "markdown",
   "metadata": {},
   "source": [
    "In the remaining columns, some contain complete data, while others still have missing values,\n",
    "albeit less than 50%. It's not advisable to drop columns with very few missing values as this data \n",
    "could be valuable for our analysis, and we also aim to uphold data integrity.\n",
    "\n",
    "During our exploratory data analysis, if columns with missing values prove to be useful, we will proceed to fill or replace \n",
    "these missing values.\""
   ]
  },
  {
   "cell_type": "markdown",
   "metadata": {},
   "source": [
    "## EXPLORATORY DATA ANALYSIS (EDA)"
   ]
  },
  {
   "cell_type": "markdown",
   "metadata": {},
   "source": [
    "Our primary business recommendation as we endeavor to identify the safest and most cost-effective\n",
    "aircraft for a company venturing into the aviation industry is to prioritize aircraft with established\n",
    "safety records."
   ]
  },
  {
   "cell_type": "markdown",
   "metadata": {},
   "source": [
    "### 1.Identifying Aircrafts with Proven Safety Records"
   ]
  },
  {
   "cell_type": "markdown",
   "metadata": {},
   "source": [
    "Analyzing the Aircrafts Safety Records is crucial to ensuring the safety,\n",
    "financial stability, reputation, regulatory compliance, and long-term viability of the company's \n",
    "aviation division.\n",
    "\n",
    "We will thus concentrate on the following columns to assist us in analyzing and identifying the \n",
    "aircraft with the best safety records."
   ]
  },
  {
   "cell_type": "markdown",
   "metadata": {},
   "source": [
    "   ### 1a. Filtering the dataframe to relevant Data only\n",
    "   To include only columns related to Aircraft Condition and Performance"
   ]
  },
  {
   "cell_type": "code",
   "execution_count": 103,
   "metadata": {},
   "outputs": [
    {
     "data": {
      "text/html": [
       "<div>\n",
       "<style scoped>\n",
       "    .dataframe tbody tr th:only-of-type {\n",
       "        vertical-align: middle;\n",
       "    }\n",
       "\n",
       "    .dataframe tbody tr th {\n",
       "        vertical-align: top;\n",
       "    }\n",
       "\n",
       "    .dataframe thead th {\n",
       "        text-align: right;\n",
       "    }\n",
       "</style>\n",
       "<table border=\"1\" class=\"dataframe\">\n",
       "  <thead>\n",
       "    <tr style=\"text-align: right;\">\n",
       "      <th></th>\n",
       "      <th>Event.Id</th>\n",
       "      <th>Accident.Number</th>\n",
       "      <th>Event.Date</th>\n",
       "      <th>Country</th>\n",
       "      <th>Aircraft.damage</th>\n",
       "      <th>Make</th>\n",
       "      <th>Model</th>\n",
       "      <th>Amateur.Built</th>\n",
       "      <th>Number.of.Engines</th>\n",
       "      <th>Engine.Type</th>\n",
       "      <th>Total.Fatal.Injuries</th>\n",
       "      <th>Total.Serious.Injuries</th>\n",
       "      <th>Total.Minor.Injuries</th>\n",
       "      <th>Total.Uninjured</th>\n",
       "    </tr>\n",
       "  </thead>\n",
       "  <tbody>\n",
       "    <tr>\n",
       "      <th>0</th>\n",
       "      <td>20001218X45444</td>\n",
       "      <td>SEA87LA080</td>\n",
       "      <td>10/24/1948</td>\n",
       "      <td>United States</td>\n",
       "      <td>Destroyed</td>\n",
       "      <td>Stinson</td>\n",
       "      <td>108-3</td>\n",
       "      <td>No</td>\n",
       "      <td>1.0</td>\n",
       "      <td>Reciprocating</td>\n",
       "      <td>2.0</td>\n",
       "      <td>0.0</td>\n",
       "      <td>0.0</td>\n",
       "      <td>0.0</td>\n",
       "    </tr>\n",
       "    <tr>\n",
       "      <th>1</th>\n",
       "      <td>20001218X45447</td>\n",
       "      <td>LAX94LA336</td>\n",
       "      <td>7/19/1962</td>\n",
       "      <td>United States</td>\n",
       "      <td>Destroyed</td>\n",
       "      <td>Piper</td>\n",
       "      <td>PA24-180</td>\n",
       "      <td>No</td>\n",
       "      <td>1.0</td>\n",
       "      <td>Reciprocating</td>\n",
       "      <td>4.0</td>\n",
       "      <td>0.0</td>\n",
       "      <td>0.0</td>\n",
       "      <td>0.0</td>\n",
       "    </tr>\n",
       "    <tr>\n",
       "      <th>2</th>\n",
       "      <td>20061025X01555</td>\n",
       "      <td>NYC07LA005</td>\n",
       "      <td>8/30/1974</td>\n",
       "      <td>United States</td>\n",
       "      <td>Destroyed</td>\n",
       "      <td>Cessna</td>\n",
       "      <td>172M</td>\n",
       "      <td>No</td>\n",
       "      <td>1.0</td>\n",
       "      <td>Reciprocating</td>\n",
       "      <td>3.0</td>\n",
       "      <td>NaN</td>\n",
       "      <td>NaN</td>\n",
       "      <td>NaN</td>\n",
       "    </tr>\n",
       "    <tr>\n",
       "      <th>3</th>\n",
       "      <td>20001218X45448</td>\n",
       "      <td>LAX96LA321</td>\n",
       "      <td>6/19/1977</td>\n",
       "      <td>United States</td>\n",
       "      <td>Destroyed</td>\n",
       "      <td>Rockwell</td>\n",
       "      <td>112</td>\n",
       "      <td>No</td>\n",
       "      <td>1.0</td>\n",
       "      <td>Reciprocating</td>\n",
       "      <td>2.0</td>\n",
       "      <td>0.0</td>\n",
       "      <td>0.0</td>\n",
       "      <td>0.0</td>\n",
       "    </tr>\n",
       "    <tr>\n",
       "      <th>4</th>\n",
       "      <td>20041105X01764</td>\n",
       "      <td>CHI79FA064</td>\n",
       "      <td>8/2/1979</td>\n",
       "      <td>United States</td>\n",
       "      <td>Destroyed</td>\n",
       "      <td>Cessna</td>\n",
       "      <td>501</td>\n",
       "      <td>No</td>\n",
       "      <td>NaN</td>\n",
       "      <td>NaN</td>\n",
       "      <td>1.0</td>\n",
       "      <td>2.0</td>\n",
       "      <td>NaN</td>\n",
       "      <td>0.0</td>\n",
       "    </tr>\n",
       "    <tr>\n",
       "      <th>...</th>\n",
       "      <td>...</td>\n",
       "      <td>...</td>\n",
       "      <td>...</td>\n",
       "      <td>...</td>\n",
       "      <td>...</td>\n",
       "      <td>...</td>\n",
       "      <td>...</td>\n",
       "      <td>...</td>\n",
       "      <td>...</td>\n",
       "      <td>...</td>\n",
       "      <td>...</td>\n",
       "      <td>...</td>\n",
       "      <td>...</td>\n",
       "      <td>...</td>\n",
       "    </tr>\n",
       "    <tr>\n",
       "      <th>88884</th>\n",
       "      <td>2.02212E+13</td>\n",
       "      <td>ERA23LA093</td>\n",
       "      <td>12/26/2022</td>\n",
       "      <td>United States</td>\n",
       "      <td>NaN</td>\n",
       "      <td>PIPER</td>\n",
       "      <td>PA-28-151</td>\n",
       "      <td>No</td>\n",
       "      <td>NaN</td>\n",
       "      <td>NaN</td>\n",
       "      <td>0.0</td>\n",
       "      <td>1.0</td>\n",
       "      <td>0.0</td>\n",
       "      <td>0.0</td>\n",
       "    </tr>\n",
       "    <tr>\n",
       "      <th>88885</th>\n",
       "      <td>2.02212E+13</td>\n",
       "      <td>ERA23LA095</td>\n",
       "      <td>12/26/2022</td>\n",
       "      <td>United States</td>\n",
       "      <td>NaN</td>\n",
       "      <td>BELLANCA</td>\n",
       "      <td>7ECA</td>\n",
       "      <td>No</td>\n",
       "      <td>NaN</td>\n",
       "      <td>NaN</td>\n",
       "      <td>0.0</td>\n",
       "      <td>0.0</td>\n",
       "      <td>0.0</td>\n",
       "      <td>0.0</td>\n",
       "    </tr>\n",
       "    <tr>\n",
       "      <th>88886</th>\n",
       "      <td>2.02212E+13</td>\n",
       "      <td>WPR23LA075</td>\n",
       "      <td>12/26/2022</td>\n",
       "      <td>United States</td>\n",
       "      <td>Substantial</td>\n",
       "      <td>AMERICAN CHAMPION AIRCRAFT</td>\n",
       "      <td>8GCBC</td>\n",
       "      <td>No</td>\n",
       "      <td>1.0</td>\n",
       "      <td>NaN</td>\n",
       "      <td>0.0</td>\n",
       "      <td>0.0</td>\n",
       "      <td>0.0</td>\n",
       "      <td>1.0</td>\n",
       "    </tr>\n",
       "    <tr>\n",
       "      <th>88887</th>\n",
       "      <td>2.02212E+13</td>\n",
       "      <td>WPR23LA076</td>\n",
       "      <td>12/26/2022</td>\n",
       "      <td>United States</td>\n",
       "      <td>NaN</td>\n",
       "      <td>CESSNA</td>\n",
       "      <td>210N</td>\n",
       "      <td>No</td>\n",
       "      <td>NaN</td>\n",
       "      <td>NaN</td>\n",
       "      <td>0.0</td>\n",
       "      <td>0.0</td>\n",
       "      <td>0.0</td>\n",
       "      <td>0.0</td>\n",
       "    </tr>\n",
       "    <tr>\n",
       "      <th>88888</th>\n",
       "      <td>2.02212E+13</td>\n",
       "      <td>ERA23LA097</td>\n",
       "      <td>12/29/2022</td>\n",
       "      <td>United States</td>\n",
       "      <td>NaN</td>\n",
       "      <td>PIPER</td>\n",
       "      <td>PA-24-260</td>\n",
       "      <td>No</td>\n",
       "      <td>NaN</td>\n",
       "      <td>NaN</td>\n",
       "      <td>0.0</td>\n",
       "      <td>1.0</td>\n",
       "      <td>0.0</td>\n",
       "      <td>1.0</td>\n",
       "    </tr>\n",
       "  </tbody>\n",
       "</table>\n",
       "<p>88889 rows × 14 columns</p>\n",
       "</div>"
      ],
      "text/plain": [
       "             Event.Id Accident.Number  Event.Date        Country  \\\n",
       "0      20001218X45444      SEA87LA080  10/24/1948  United States   \n",
       "1      20001218X45447      LAX94LA336   7/19/1962  United States   \n",
       "2      20061025X01555      NYC07LA005   8/30/1974  United States   \n",
       "3      20001218X45448      LAX96LA321   6/19/1977  United States   \n",
       "4      20041105X01764      CHI79FA064    8/2/1979  United States   \n",
       "...               ...             ...         ...            ...   \n",
       "88884     2.02212E+13      ERA23LA093  12/26/2022  United States   \n",
       "88885     2.02212E+13      ERA23LA095  12/26/2022  United States   \n",
       "88886     2.02212E+13      WPR23LA075  12/26/2022  United States   \n",
       "88887     2.02212E+13      WPR23LA076  12/26/2022  United States   \n",
       "88888     2.02212E+13      ERA23LA097  12/29/2022  United States   \n",
       "\n",
       "      Aircraft.damage                        Make      Model Amateur.Built  \\\n",
       "0           Destroyed                     Stinson      108-3            No   \n",
       "1           Destroyed                       Piper   PA24-180            No   \n",
       "2           Destroyed                      Cessna       172M            No   \n",
       "3           Destroyed                    Rockwell        112            No   \n",
       "4           Destroyed                      Cessna        501            No   \n",
       "...               ...                         ...        ...           ...   \n",
       "88884             NaN                       PIPER  PA-28-151            No   \n",
       "88885             NaN                    BELLANCA       7ECA            No   \n",
       "88886     Substantial  AMERICAN CHAMPION AIRCRAFT      8GCBC            No   \n",
       "88887             NaN                      CESSNA       210N            No   \n",
       "88888             NaN                       PIPER  PA-24-260            No   \n",
       "\n",
       "       Number.of.Engines    Engine.Type  Total.Fatal.Injuries  \\\n",
       "0                    1.0  Reciprocating                   2.0   \n",
       "1                    1.0  Reciprocating                   4.0   \n",
       "2                    1.0  Reciprocating                   3.0   \n",
       "3                    1.0  Reciprocating                   2.0   \n",
       "4                    NaN            NaN                   1.0   \n",
       "...                  ...            ...                   ...   \n",
       "88884                NaN            NaN                   0.0   \n",
       "88885                NaN            NaN                   0.0   \n",
       "88886                1.0            NaN                   0.0   \n",
       "88887                NaN            NaN                   0.0   \n",
       "88888                NaN            NaN                   0.0   \n",
       "\n",
       "       Total.Serious.Injuries  Total.Minor.Injuries  Total.Uninjured  \n",
       "0                         0.0                   0.0              0.0  \n",
       "1                         0.0                   0.0              0.0  \n",
       "2                         NaN                   NaN              NaN  \n",
       "3                         0.0                   0.0              0.0  \n",
       "4                         2.0                   NaN              0.0  \n",
       "...                       ...                   ...              ...  \n",
       "88884                     1.0                   0.0              0.0  \n",
       "88885                     0.0                   0.0              0.0  \n",
       "88886                     0.0                   0.0              1.0  \n",
       "88887                     0.0                   0.0              0.0  \n",
       "88888                     1.0                   0.0              1.0  \n",
       "\n",
       "[88889 rows x 14 columns]"
      ]
     },
     "execution_count": 103,
     "metadata": {},
     "output_type": "execute_result"
    }
   ],
   "source": [
    "# Select columns related to aircraft condition and performance\n",
    "relevant_columns = [\n",
    "    'Event.Id', 'Accident.Number', 'Event.Date', 'Country', 'Aircraft.damage', \n",
    "    'Make', 'Model', 'Amateur.Built', 'Number.of.Engines', 'Engine.Type', \n",
    "    'Total.Fatal.Injuries', 'Total.Serious.Injuries', 'Total.Minor.Injuries', 'Total.Uninjured'\n",
    "]\n",
    "aircraft_data = df[relevant_columns]\n",
    "aircraft_data"
   ]
  },
  {
   "cell_type": "markdown",
   "metadata": {},
   "source": [
    "### Dealing with Missing values in the relevant columns"
   ]
  },
  {
   "cell_type": "markdown",
   "metadata": {},
   "source": [
    "Dealing with missing data is crucial in data analysis and decision-making for several reasons:\n",
    "\n",
    "    Ensuring Data Quality and Integrity\n",
    "    Improving Model Performance\n",
    "    Enabling Comprehensive Analysis\n",
    "    Facilitating Robustness in Decision-Making"
   ]
  },
  {
   "cell_type": "code",
   "execution_count": 104,
   "metadata": {},
   "outputs": [
    {
     "name": "stdout",
     "output_type": "stream",
     "text": [
      "<class 'pandas.core.frame.DataFrame'>\n",
      "RangeIndex: 88889 entries, 0 to 88888\n",
      "Data columns (total 14 columns):\n",
      " #   Column                  Non-Null Count  Dtype  \n",
      "---  ------                  --------------  -----  \n",
      " 0   Event.Id                88889 non-null  object \n",
      " 1   Accident.Number         88889 non-null  object \n",
      " 2   Event.Date              88889 non-null  object \n",
      " 3   Country                 88663 non-null  object \n",
      " 4   Aircraft.damage         85695 non-null  object \n",
      " 5   Make                    88826 non-null  object \n",
      " 6   Model                   88797 non-null  object \n",
      " 7   Amateur.Built           88787 non-null  object \n",
      " 8   Number.of.Engines       82805 non-null  float64\n",
      " 9   Engine.Type             81812 non-null  object \n",
      " 10  Total.Fatal.Injuries    77488 non-null  float64\n",
      " 11  Total.Serious.Injuries  76379 non-null  float64\n",
      " 12  Total.Minor.Injuries    76956 non-null  float64\n",
      " 13  Total.Uninjured         82977 non-null  float64\n",
      "dtypes: float64(5), object(9)\n",
      "memory usage: 9.5+ MB\n"
     ]
    }
   ],
   "source": [
    "#The .info() method in pandas provides a concise summary of a DataFrame. \n",
    "aircraft_data.info()"
   ]
  },
  {
   "cell_type": "code",
   "execution_count": 105,
   "metadata": {},
   "outputs": [
    {
     "data": {
      "text/plain": [
       "Event.Id                      0\n",
       "Accident.Number               0\n",
       "Event.Date                    0\n",
       "Country                     226\n",
       "Aircraft.damage            3194\n",
       "Make                         63\n",
       "Model                        92\n",
       "Amateur.Built               102\n",
       "Number.of.Engines          6084\n",
       "Engine.Type                7077\n",
       "Total.Fatal.Injuries      11401\n",
       "Total.Serious.Injuries    12510\n",
       "Total.Minor.Injuries      11933\n",
       "Total.Uninjured            5912\n",
       "dtype: int64"
      ]
     },
     "execution_count": 105,
     "metadata": {},
     "output_type": "execute_result"
    }
   ],
   "source": [
    "aircraft_data.isna().sum()"
   ]
  },
  {
   "cell_type": "markdown",
   "metadata": {},
   "source": [
    "According to the summary statistics, there are 5 columns with missing data that are categorical,\n",
    "while the remaining columns with missing values are numerical. The best approach to deal with \n",
    "categorical data is imputing using 'mode' or considering a separate category for missing values ,while for numerical data is either dropping the column/rows or imputing them using median, mean and mode"
   ]
  },
  {
   "cell_type": "markdown",
   "metadata": {},
   "source": [
    "#### Lets start by dealing with Missing values in columns with Numerical data"
   ]
  },
  {
   "cell_type": "code",
   "execution_count": 130,
   "metadata": {},
   "outputs": [
    {
     "name": "stdout",
     "output_type": "stream",
     "text": [
      "0    1.0\n",
      "dtype: float64\n"
     ]
    }
   ],
   "source": [
    "#Dealing with missing value in column' Number.of.Engines' by imputing\n",
    "\n",
    "#Counting the occurrences of each unique value in column 'Number.of.Engines'\n",
    "aircraft_data['Number.of.Engines'].value_counts()\n",
    "\n",
    "\n",
    "#In the output above, the value (1.) appears thousands of times, making it the mode of the data.\n",
    "#Therefore, we will impute the missing values using the mode.\n",
    "\n",
    "\n",
    "#finding the mode of data in 'Number.of.Engines'\n",
    "engine_mode = df['Number.of.Engines'].mode()\n",
    "print(engine_mode)\n",
    "\n",
    "\n",
    "#imputing missing values in the column 'Number.of.Engines' with mode\n",
    "aircraft_data['Number.of.Engines'].fillna(aircraft_data['Number.of.Engines'].mode(), inplace=True)"
   ]
  },
  {
   "cell_type": "markdown",
   "metadata": {},
   "source": [
    "In the output above, the value (1.) appears thousands of times, making it the mode of the data.\n",
    "Therefore, we will impute the missing values using the mode."
   ]
  },
  {
   "cell_type": "markdown",
   "metadata": {},
   "source": [
    "#### Dealing with missing values in column\"Total.Fatal.Injuries\""
   ]
  },
  {
   "cell_type": "code",
   "execution_count": 131,
   "metadata": {},
   "outputs": [],
   "source": [
    "#counting the occurrences of values in the column\n",
    "aircraft_data['Total.Fatal.Injuries'].value_counts()\n",
    "\n",
    "# we shall impute misssing values using mean due to existence of outliers\n",
    "aircraft_data['Total.Fatal.Injuries'].fillna(df['Total.Fatal.Injuries'].mean(), inplace=True)"
   ]
  },
  {
   "cell_type": "code",
   "execution_count": 132,
   "metadata": {},
   "outputs": [],
   "source": [
    "#Dealing with missing values in column\"Total.Serious.Injuries\"\n",
    "aircraft_data['Total.Serious.Injuries'].value_counts()\n",
    "\n",
    "##imputing missing values using mean(), due to outliers\n",
    "aircraft_data['Total.Serious.Injuries'].fillna(df['Total.Serious.Injuries'].mean(), inplace=True)"
   ]
  },
  {
   "cell_type": "code",
   "execution_count": 133,
   "metadata": {},
   "outputs": [
    {
     "data": {
      "text/plain": [
       "0.000000    63289\n",
       "0.279881    12510\n",
       "1.000000     9125\n",
       "2.000000     2815\n",
       "3.000000      629\n",
       "4.000000      258\n",
       "5.000000       78\n",
       "6.000000       41\n",
       "7.000000       27\n",
       "9.000000       16\n",
       "Name: Total.Serious.Injuries, dtype: int64"
      ]
     },
     "execution_count": 133,
     "metadata": {},
     "output_type": "execute_result"
    }
   ],
   "source": [
    "aircraft_data['Total.Serious.Injuries'].value_counts()\n",
    "\n",
    "first_10 = aircraft_data['Total.Serious.Injuries'].value_counts().head(10)\n",
    "first_10"
   ]
  },
  {
   "cell_type": "code",
   "execution_count": 134,
   "metadata": {},
   "outputs": [
    {
     "data": {
      "text/plain": [
       "(array([6., 0., 1., 0., 0., 0., 0., 1., 0., 1., 0., 0., 0., 0., 0., 0., 0.,\n",
       "        0., 0., 0., 0., 0., 0., 0., 0., 0., 0., 0., 0., 0., 0., 0., 0., 0.,\n",
       "        0., 0., 0., 0., 0., 0., 0., 0., 0., 0., 0., 0., 0., 0., 0., 1.]),\n",
       " array([1.600000e+01, 1.281460e+03, 2.546920e+03, 3.812380e+03,\n",
       "        5.077840e+03, 6.343300e+03, 7.608760e+03, 8.874220e+03,\n",
       "        1.013968e+04, 1.140514e+04, 1.267060e+04, 1.393606e+04,\n",
       "        1.520152e+04, 1.646698e+04, 1.773244e+04, 1.899790e+04,\n",
       "        2.026336e+04, 2.152882e+04, 2.279428e+04, 2.405974e+04,\n",
       "        2.532520e+04, 2.659066e+04, 2.785612e+04, 2.912158e+04,\n",
       "        3.038704e+04, 3.165250e+04, 3.291796e+04, 3.418342e+04,\n",
       "        3.544888e+04, 3.671434e+04, 3.797980e+04, 3.924526e+04,\n",
       "        4.051072e+04, 4.177618e+04, 4.304164e+04, 4.430710e+04,\n",
       "        4.557256e+04, 4.683802e+04, 4.810348e+04, 4.936894e+04,\n",
       "        5.063440e+04, 5.189986e+04, 5.316532e+04, 5.443078e+04,\n",
       "        5.569624e+04, 5.696170e+04, 5.822716e+04, 5.949262e+04,\n",
       "        6.075808e+04, 6.202354e+04, 6.328900e+04]),\n",
       " <BarContainer object of 50 artists>)"
      ]
     },
     "execution_count": 134,
     "metadata": {},
     "output_type": "execute_result"
    },
    {
     "data": {
      "image/png": "[encoded data removed]",
      "text/plain": [
       "<Figure size 432x288 with 1 Axes>"
      ]
     },
     "metadata": {
      "needs_background": "light"
     },
     "output_type": "display_data"
    }
   ],
   "source": [
    "import matplotlib.pyplot as plt\n",
    "plt.hist(first_10, bins=50, edgecolor='k')"
   ]
  },
  {
   "cell_type": "code",
   "execution_count": 135,
   "metadata": {},
   "outputs": [],
   "source": [
    "#Dealing with missing values in column\"Total.Minor.Injuries\"\n",
    "\n",
    "#df['Total.Serious.Injuries'].value_counts()\n",
    "aircraft_data['Total.Minor.Injuries'].value_counts()\n",
    "\n",
    "#imputing missing values using mean(), due to outliers\n",
    "aircraft_data['Total.Minor.Injuries'].fillna(df['Total.Minor.Injuries'].mean(), inplace=True)"
   ]
  },
  {
   "cell_type": "code",
   "execution_count": 136,
   "metadata": {},
   "outputs": [],
   "source": [
    "##Dealing with missing values in column\"Total.Uninjured\"\n",
    "aircraft_data['Total.Uninjured'].value_counts()\n",
    "\n",
    "##imputing missing values using mean(), due to outliers\n",
    "aircraft_data['Total.Uninjured'].fillna(df['Total.Uninjured'].mean(), inplace=True)"
   ]
  },
  {
   "cell_type": "markdown",
   "metadata": {},
   "source": [
    "#### Dealing with Missing data in columns with Categorical data"
   ]
  },
  {
   "cell_type": "code",
   "execution_count": 137,
   "metadata": {},
   "outputs": [
    {
     "name": "stdout",
     "output_type": "stream",
     "text": [
      "Substantial\n",
      "67342\n"
     ]
    }
   ],
   "source": [
    "###Dealing with missing values in column\"Aircraft.damage\"\n",
    "most_frequent = aircraft_data['Aircraft.damage'].mode()[0]\n",
    "print(most_frequent)\n",
    "\n",
    "#Counting the occurrences of the most frequent word\n",
    "count_most_frequent = (aircraft_data['Aircraft.damage'] == most_frequent).sum()\n",
    "print(count_most_frequent)\n",
    "\n",
    "#imputing the missing values using mode\n",
    "aircraft_data['Aircraft.damage'].fillna(most_frequent, inplace=True)"
   ]
  },
  {
   "cell_type": "code",
   "execution_count": 138,
   "metadata": {},
   "outputs": [
    {
     "name": "stdout",
     "output_type": "stream",
     "text": [
      "United States\n",
      "82474\n"
     ]
    }
   ],
   "source": [
    "###Dealing with missing values in column\"Country\"\n",
    "most_frequent = aircraft_data['Country'].mode()[0]\n",
    "print(most_frequent)\n",
    "\n",
    "#Counting the occurrences of the most frequent word\n",
    "count_most_frequent = (aircraft_data['Country'] == most_frequent).sum()\n",
    "print(count_most_frequent)\n",
    "\n",
    "#imputing the missing values using mode\n",
    "aircraft_data['Country'].fillna(most_frequent, inplace=True)\n"
   ]
  },
  {
   "cell_type": "code",
   "execution_count": 139,
   "metadata": {},
   "outputs": [
    {
     "name": "stdout",
     "output_type": "stream",
     "text": [
      "Cessna\n",
      "22290\n"
     ]
    }
   ],
   "source": [
    "###Dealing with missing values in column\"Make\"\n",
    "most_frequent = aircraft_data['Make'].mode()[0]\n",
    "print(most_frequent)\n",
    "\n",
    "#Counting the occurrences of the most frequent word\n",
    "count_most_frequent = (aircraft_data['Make'] == most_frequent).sum()\n",
    "print(count_most_frequent)\n",
    "\n",
    "#imputing the missing values using mode\n",
    "aircraft_data['Make'].fillna(most_frequent, inplace=True)"
   ]
  },
  {
   "cell_type": "code",
   "execution_count": 140,
   "metadata": {},
   "outputs": [
    {
     "name": "stdout",
     "output_type": "stream",
     "text": [
      "152\n",
      "2459\n"
     ]
    }
   ],
   "source": [
    "###Dealing with missing values in column\"Model\"\n",
    "most_frequent = aircraft_data['Model'].mode()[0]\n",
    "print(most_frequent)\n",
    "\n",
    "#Counting the occurrences of the most frequent word\n",
    "count_most_frequent = (aircraft_data['Model'] == most_frequent).sum()\n",
    "print(count_most_frequent)\n",
    "\n",
    "#imputing the missing values using mode\n",
    "aircraft_data['Model'].fillna(most_frequent, inplace=True)"
   ]
  },
  {
   "cell_type": "code",
   "execution_count": 141,
   "metadata": {},
   "outputs": [
    {
     "name": "stdout",
     "output_type": "stream",
     "text": [
      "No\n",
      "80414\n"
     ]
    }
   ],
   "source": [
    "###Dealing with missing values in column\"Amateur.Built\"\n",
    "most_frequent = aircraft_data['Amateur.Built'].mode()[0]\n",
    "print(most_frequent)\n",
    "\n",
    "#Counting the occurrences of the most frequent word\n",
    "count_most_frequent = (aircraft_data['Amateur.Built'] == most_frequent).sum()\n",
    "print(count_most_frequent)\n",
    "\n",
    "#imputing the missing values using mode\n",
    "aircraft_data['Amateur.Built'].fillna(most_frequent, inplace=True)"
   ]
  },
  {
   "cell_type": "code",
   "execution_count": 142,
   "metadata": {},
   "outputs": [
    {
     "name": "stdout",
     "output_type": "stream",
     "text": [
      "Reciprocating\n",
      "76607\n"
     ]
    }
   ],
   "source": [
    "###Dealing with missing values in column\"Engine.Type\"\n",
    "most_frequent = aircraft_data['Engine.Type'].mode()[0]\n",
    "print(most_frequent)\n",
    "\n",
    "#Counting the occurrences of the most frequent word\n",
    "count_most_frequent = (aircraft_data['Engine.Type'] == most_frequent).sum()\n",
    "print(count_most_frequent)\n",
    "\n",
    "#imputing the missing values using mode\n",
    "aircraft_data['Engine.Type'].fillna(most_frequent, inplace=True)"
   ]
  },
  {
   "cell_type": "code",
   "execution_count": 143,
   "metadata": {},
   "outputs": [
    {
     "name": "stdout",
     "output_type": "stream",
     "text": [
      "<class 'pandas.core.frame.DataFrame'>\n",
      "RangeIndex: 88889 entries, 0 to 88888\n",
      "Data columns (total 25 columns):\n",
      " #   Column                  Non-Null Count  Dtype  \n",
      "---  ------                  --------------  -----  \n",
      " 0   Event.Id                88889 non-null  object \n",
      " 1   Investigation.Type      88889 non-null  object \n",
      " 2   Accident.Number         88889 non-null  object \n",
      " 3   Event.Date              88889 non-null  object \n",
      " 4   Location                88837 non-null  object \n",
      " 5   Country                 88663 non-null  object \n",
      " 6   Airport.Code            50249 non-null  object \n",
      " 7   Airport.Name            52790 non-null  object \n",
      " 8   Injury.Severity         87889 non-null  object \n",
      " 9   Aircraft.damage         85695 non-null  object \n",
      " 10  Registration.Number     87572 non-null  object \n",
      " 11  Make                    88826 non-null  object \n",
      " 12  Model                   88797 non-null  object \n",
      " 13  Amateur.Built           88787 non-null  object \n",
      " 14  Number.of.Engines       82805 non-null  float64\n",
      " 15  Engine.Type             81812 non-null  object \n",
      " 16  Purpose.of.flight       82697 non-null  object \n",
      " 17  Total.Fatal.Injuries    77488 non-null  float64\n",
      " 18  Total.Serious.Injuries  76379 non-null  float64\n",
      " 19  Total.Minor.Injuries    76956 non-null  float64\n",
      " 20  Total.Uninjured         82977 non-null  float64\n",
      " 21  Weather.Condition       84397 non-null  object \n",
      " 22  Broad.phase.of.flight   61724 non-null  object \n",
      " 23  Report.Status           82508 non-null  object \n",
      " 24  Publication.Date        75118 non-null  object \n",
      "dtypes: float64(5), object(20)\n",
      "memory usage: 17.0+ MB\n"
     ]
    }
   ],
   "source": [
    "df.info()"
   ]
  },
  {
   "cell_type": "code",
   "execution_count": 144,
   "metadata": {},
   "outputs": [
    {
     "name": "stdout",
     "output_type": "stream",
     "text": [
      "<class 'pandas.core.frame.DataFrame'>\n",
      "RangeIndex: 88889 entries, 0 to 88888\n",
      "Data columns (total 15 columns):\n",
      " #   Column                  Non-Null Count  Dtype  \n",
      "---  ------                  --------------  -----  \n",
      " 0   Event.Id                88889 non-null  object \n",
      " 1   Accident.Number         88889 non-null  object \n",
      " 2   Event.Date              88889 non-null  object \n",
      " 3   Country                 88889 non-null  object \n",
      " 4   Aircraft.damage         88889 non-null  object \n",
      " 5   Make                    88889 non-null  object \n",
      " 6   Model                   88889 non-null  object \n",
      " 7   Amateur.Built           88889 non-null  object \n",
      " 8   Number.of.Engines       82805 non-null  float64\n",
      " 9   Engine.Type             88889 non-null  object \n",
      " 10  Total.Fatal.Injuries    88889 non-null  float64\n",
      " 11  Total.Serious.Injuries  88889 non-null  float64\n",
      " 12  Total.Minor.Injuries    88889 non-null  float64\n",
      " 13  Total.Uninjured         88889 non-null  float64\n",
      " 14  Total_Injuries          88889 non-null  float64\n",
      "dtypes: float64(6), object(9)\n",
      "memory usage: 10.2+ MB\n"
     ]
    }
   ],
   "source": [
    "aircraft_data.info()"
   ]
  },
  {
   "cell_type": "markdown",
   "metadata": {},
   "source": [
    "### 1c. Calculate Safety Metrics (Optional)"
   ]
  },
  {
   "cell_type": "code",
   "execution_count": null,
   "metadata": {},
   "outputs": [],
   "source": []
  },
  {
   "cell_type": "code",
   "execution_count": 145,
   "metadata": {},
   "outputs": [
    {
     "name": "stderr",
     "output_type": "stream",
     "text": [
      "<ipython-input-145-ad9ae145659c>:2: SettingWithCopyWarning: \n",
      "A value is trying to be set on a copy of a slice from a DataFrame.\n",
      "Try using .loc[row_indexer,col_indexer] = value instead\n",
      "\n",
      "See the caveats in the documentation: https://pandas.pydata.org/pandas-docs/stable/user_guide/indexing.html#returning-a-view-versus-a-copy\n",
      "  aircraft_data['Total_Injuries'] = aircraft_data['Total.Fatal.Injuries'] + aircraft_data['Total.Serious.Injuries'] + aircraft_data['Total.Minor.Injuries']\n"
     ]
    },
    {
     "data": {
      "text/html": [
       "<div>\n",
       "<style scoped>\n",
       "    .dataframe tbody tr th:only-of-type {\n",
       "        vertical-align: middle;\n",
       "    }\n",
       "\n",
       "    .dataframe tbody tr th {\n",
       "        vertical-align: top;\n",
       "    }\n",
       "\n",
       "    .dataframe thead th {\n",
       "        text-align: right;\n",
       "    }\n",
       "</style>\n",
       "<table border=\"1\" class=\"dataframe\">\n",
       "  <thead>\n",
       "    <tr style=\"text-align: right;\">\n",
       "      <th></th>\n",
       "      <th>Event.Id</th>\n",
       "      <th>Accident.Number</th>\n",
       "      <th>Event.Date</th>\n",
       "      <th>Country</th>\n",
       "      <th>Aircraft.damage</th>\n",
       "      <th>Make</th>\n",
       "      <th>Model</th>\n",
       "      <th>Amateur.Built</th>\n",
       "      <th>Number.of.Engines</th>\n",
       "      <th>Engine.Type</th>\n",
       "      <th>Total.Fatal.Injuries</th>\n",
       "      <th>Total.Serious.Injuries</th>\n",
       "      <th>Total.Minor.Injuries</th>\n",
       "      <th>Total.Uninjured</th>\n",
       "      <th>Total_Injuries</th>\n",
       "    </tr>\n",
       "  </thead>\n",
       "  <tbody>\n",
       "    <tr>\n",
       "      <th>0</th>\n",
       "      <td>20001218X45444</td>\n",
       "      <td>SEA87LA080</td>\n",
       "      <td>10/24/1948</td>\n",
       "      <td>United States</td>\n",
       "      <td>Destroyed</td>\n",
       "      <td>Stinson</td>\n",
       "      <td>108-3</td>\n",
       "      <td>No</td>\n",
       "      <td>1.0</td>\n",
       "      <td>Reciprocating</td>\n",
       "      <td>2.0</td>\n",
       "      <td>0.000000</td>\n",
       "      <td>0.000000</td>\n",
       "      <td>0.00000</td>\n",
       "      <td>2.000000</td>\n",
       "    </tr>\n",
       "    <tr>\n",
       "      <th>1</th>\n",
       "      <td>20001218X45447</td>\n",
       "      <td>LAX94LA336</td>\n",
       "      <td>7/19/1962</td>\n",
       "      <td>United States</td>\n",
       "      <td>Destroyed</td>\n",
       "      <td>Piper</td>\n",
       "      <td>PA24-180</td>\n",
       "      <td>No</td>\n",
       "      <td>1.0</td>\n",
       "      <td>Reciprocating</td>\n",
       "      <td>4.0</td>\n",
       "      <td>0.000000</td>\n",
       "      <td>0.000000</td>\n",
       "      <td>0.00000</td>\n",
       "      <td>4.000000</td>\n",
       "    </tr>\n",
       "    <tr>\n",
       "      <th>2</th>\n",
       "      <td>20061025X01555</td>\n",
       "      <td>NYC07LA005</td>\n",
       "      <td>8/30/1974</td>\n",
       "      <td>United States</td>\n",
       "      <td>Destroyed</td>\n",
       "      <td>Cessna</td>\n",
       "      <td>172M</td>\n",
       "      <td>No</td>\n",
       "      <td>1.0</td>\n",
       "      <td>Reciprocating</td>\n",
       "      <td>3.0</td>\n",
       "      <td>0.279881</td>\n",
       "      <td>0.357061</td>\n",
       "      <td>5.32544</td>\n",
       "      <td>3.636942</td>\n",
       "    </tr>\n",
       "    <tr>\n",
       "      <th>3</th>\n",
       "      <td>20001218X45448</td>\n",
       "      <td>LAX96LA321</td>\n",
       "      <td>6/19/1977</td>\n",
       "      <td>United States</td>\n",
       "      <td>Destroyed</td>\n",
       "      <td>Rockwell</td>\n",
       "      <td>112</td>\n",
       "      <td>No</td>\n",
       "      <td>1.0</td>\n",
       "      <td>Reciprocating</td>\n",
       "      <td>2.0</td>\n",
       "      <td>0.000000</td>\n",
       "      <td>0.000000</td>\n",
       "      <td>0.00000</td>\n",
       "      <td>2.000000</td>\n",
       "    </tr>\n",
       "    <tr>\n",
       "      <th>4</th>\n",
       "      <td>20041105X01764</td>\n",
       "      <td>CHI79FA064</td>\n",
       "      <td>8/2/1979</td>\n",
       "      <td>United States</td>\n",
       "      <td>Destroyed</td>\n",
       "      <td>Cessna</td>\n",
       "      <td>501</td>\n",
       "      <td>No</td>\n",
       "      <td>NaN</td>\n",
       "      <td>Reciprocating</td>\n",
       "      <td>1.0</td>\n",
       "      <td>2.000000</td>\n",
       "      <td>0.357061</td>\n",
       "      <td>0.00000</td>\n",
       "      <td>3.357061</td>\n",
       "    </tr>\n",
       "    <tr>\n",
       "      <th>...</th>\n",
       "      <td>...</td>\n",
       "      <td>...</td>\n",
       "      <td>...</td>\n",
       "      <td>...</td>\n",
       "      <td>...</td>\n",
       "      <td>...</td>\n",
       "      <td>...</td>\n",
       "      <td>...</td>\n",
       "      <td>...</td>\n",
       "      <td>...</td>\n",
       "      <td>...</td>\n",
       "      <td>...</td>\n",
       "      <td>...</td>\n",
       "      <td>...</td>\n",
       "      <td>...</td>\n",
       "    </tr>\n",
       "    <tr>\n",
       "      <th>88884</th>\n",
       "      <td>2.02212E+13</td>\n",
       "      <td>ERA23LA093</td>\n",
       "      <td>12/26/2022</td>\n",
       "      <td>United States</td>\n",
       "      <td>Substantial</td>\n",
       "      <td>PIPER</td>\n",
       "      <td>PA-28-151</td>\n",
       "      <td>No</td>\n",
       "      <td>NaN</td>\n",
       "      <td>Reciprocating</td>\n",
       "      <td>0.0</td>\n",
       "      <td>1.000000</td>\n",
       "      <td>0.000000</td>\n",
       "      <td>0.00000</td>\n",
       "      <td>1.000000</td>\n",
       "    </tr>\n",
       "    <tr>\n",
       "      <th>88885</th>\n",
       "      <td>2.02212E+13</td>\n",
       "      <td>ERA23LA095</td>\n",
       "      <td>12/26/2022</td>\n",
       "      <td>United States</td>\n",
       "      <td>Substantial</td>\n",
       "      <td>BELLANCA</td>\n",
       "      <td>7ECA</td>\n",
       "      <td>No</td>\n",
       "      <td>NaN</td>\n",
       "      <td>Reciprocating</td>\n",
       "      <td>0.0</td>\n",
       "      <td>0.000000</td>\n",
       "      <td>0.000000</td>\n",
       "      <td>0.00000</td>\n",
       "      <td>0.000000</td>\n",
       "    </tr>\n",
       "    <tr>\n",
       "      <th>88886</th>\n",
       "      <td>2.02212E+13</td>\n",
       "      <td>WPR23LA075</td>\n",
       "      <td>12/26/2022</td>\n",
       "      <td>United States</td>\n",
       "      <td>Substantial</td>\n",
       "      <td>AMERICAN CHAMPION AIRCRAFT</td>\n",
       "      <td>8GCBC</td>\n",
       "      <td>No</td>\n",
       "      <td>1.0</td>\n",
       "      <td>Reciprocating</td>\n",
       "      <td>0.0</td>\n",
       "      <td>0.000000</td>\n",
       "      <td>0.000000</td>\n",
       "      <td>1.00000</td>\n",
       "      <td>0.000000</td>\n",
       "    </tr>\n",
       "    <tr>\n",
       "      <th>88887</th>\n",
       "      <td>2.02212E+13</td>\n",
       "      <td>WPR23LA076</td>\n",
       "      <td>12/26/2022</td>\n",
       "      <td>United States</td>\n",
       "      <td>Substantial</td>\n",
       "      <td>CESSNA</td>\n",
       "      <td>210N</td>\n",
       "      <td>No</td>\n",
       "      <td>NaN</td>\n",
       "      <td>Reciprocating</td>\n",
       "      <td>0.0</td>\n",
       "      <td>0.000000</td>\n",
       "      <td>0.000000</td>\n",
       "      <td>0.00000</td>\n",
       "      <td>0.000000</td>\n",
       "    </tr>\n",
       "    <tr>\n",
       "      <th>88888</th>\n",
       "      <td>2.02212E+13</td>\n",
       "      <td>ERA23LA097</td>\n",
       "      <td>12/29/2022</td>\n",
       "      <td>United States</td>\n",
       "      <td>Substantial</td>\n",
       "      <td>PIPER</td>\n",
       "      <td>PA-24-260</td>\n",
       "      <td>No</td>\n",
       "      <td>NaN</td>\n",
       "      <td>Reciprocating</td>\n",
       "      <td>0.0</td>\n",
       "      <td>1.000000</td>\n",
       "      <td>0.000000</td>\n",
       "      <td>1.00000</td>\n",
       "      <td>1.000000</td>\n",
       "    </tr>\n",
       "  </tbody>\n",
       "</table>\n",
       "<p>88889 rows × 15 columns</p>\n",
       "</div>"
      ],
      "text/plain": [
       "             Event.Id Accident.Number  Event.Date        Country  \\\n",
       "0      20001218X45444      SEA87LA080  10/24/1948  United States   \n",
       "1      20001218X45447      LAX94LA336   7/19/1962  United States   \n",
       "2      20061025X01555      NYC07LA005   8/30/1974  United States   \n",
       "3      20001218X45448      LAX96LA321   6/19/1977  United States   \n",
       "4      20041105X01764      CHI79FA064    8/2/1979  United States   \n",
       "...               ...             ...         ...            ...   \n",
       "88884     2.02212E+13      ERA23LA093  12/26/2022  United States   \n",
       "88885     2.02212E+13      ERA23LA095  12/26/2022  United States   \n",
       "88886     2.02212E+13      WPR23LA075  12/26/2022  United States   \n",
       "88887     2.02212E+13      WPR23LA076  12/26/2022  United States   \n",
       "88888     2.02212E+13      ERA23LA097  12/29/2022  United States   \n",
       "\n",
       "      Aircraft.damage                        Make      Model Amateur.Built  \\\n",
       "0           Destroyed                     Stinson      108-3            No   \n",
       "1           Destroyed                       Piper   PA24-180            No   \n",
       "2           Destroyed                      Cessna       172M            No   \n",
       "3           Destroyed                    Rockwell        112            No   \n",
       "4           Destroyed                      Cessna        501            No   \n",
       "...               ...                         ...        ...           ...   \n",
       "88884     Substantial                       PIPER  PA-28-151            No   \n",
       "88885     Substantial                    BELLANCA       7ECA            No   \n",
       "88886     Substantial  AMERICAN CHAMPION AIRCRAFT      8GCBC            No   \n",
       "88887     Substantial                      CESSNA       210N            No   \n",
       "88888     Substantial                       PIPER  PA-24-260            No   \n",
       "\n",
       "       Number.of.Engines    Engine.Type  Total.Fatal.Injuries  \\\n",
       "0                    1.0  Reciprocating                   2.0   \n",
       "1                    1.0  Reciprocating                   4.0   \n",
       "2                    1.0  Reciprocating                   3.0   \n",
       "3                    1.0  Reciprocating                   2.0   \n",
       "4                    NaN  Reciprocating                   1.0   \n",
       "...                  ...            ...                   ...   \n",
       "88884                NaN  Reciprocating                   0.0   \n",
       "88885                NaN  Reciprocating                   0.0   \n",
       "88886                1.0  Reciprocating                   0.0   \n",
       "88887                NaN  Reciprocating                   0.0   \n",
       "88888                NaN  Reciprocating                   0.0   \n",
       "\n",
       "       Total.Serious.Injuries  Total.Minor.Injuries  Total.Uninjured  \\\n",
       "0                    0.000000              0.000000          0.00000   \n",
       "1                    0.000000              0.000000          0.00000   \n",
       "2                    0.279881              0.357061          5.32544   \n",
       "3                    0.000000              0.000000          0.00000   \n",
       "4                    2.000000              0.357061          0.00000   \n",
       "...                       ...                   ...              ...   \n",
       "88884                1.000000              0.000000          0.00000   \n",
       "88885                0.000000              0.000000          0.00000   \n",
       "88886                0.000000              0.000000          1.00000   \n",
       "88887                0.000000              0.000000          0.00000   \n",
       "88888                1.000000              0.000000          1.00000   \n",
       "\n",
       "       Total_Injuries  \n",
       "0            2.000000  \n",
       "1            4.000000  \n",
       "2            3.636942  \n",
       "3            2.000000  \n",
       "4            3.357061  \n",
       "...               ...  \n",
       "88884        1.000000  \n",
       "88885        0.000000  \n",
       "88886        0.000000  \n",
       "88887        0.000000  \n",
       "88888        1.000000  \n",
       "\n",
       "[88889 rows x 15 columns]"
      ]
     },
     "execution_count": 145,
     "metadata": {},
     "output_type": "execute_result"
    }
   ],
   "source": [
    "# Calculating total injuries (fatal, serious, minor) to assess severity\n",
    "aircraft_data['Total_Injuries'] = aircraft_data['Total.Fatal.Injuries'] + aircraft_data['Total.Serious.Injuries'] + aircraft_data['Total.Minor.Injuries']\n",
    "\n",
    "aircraft_data"
   ]
  },
  {
   "cell_type": "markdown",
   "metadata": {},
   "source": [
    "### 1d. Analyze trends and patterns to identify aircraft with proven safety \n",
    "\n",
    " For instance, we could group data by aircraft make and model, and compute average injury counts"
   ]
  },
  {
   "cell_type": "code",
   "execution_count": 148,
   "metadata": {},
   "outputs": [
    {
     "name": "stdout",
     "output_type": "stream",
     "text": [
      "                                            Number.of.Engines  \\\n",
      "Make                     Model                                  \n",
      "107.5 Flying Corporation One Design DR 107                1.0   \n",
      "1200                     G103                             0.0   \n",
      "177MF LLC                PITTS MODEL 12                   1.0   \n",
      "1977 Colfer-chan         STEEN SKYBOLT                    NaN   \n",
      "1st Ftr Gp               FOCKE-WULF 190                   1.0   \n",
      "\n",
      "                                            Total.Fatal.Injuries  \\\n",
      "Make                     Model                                     \n",
      "107.5 Flying Corporation One Design DR 107              1.000000   \n",
      "1200                     G103                           0.647855   \n",
      "177MF LLC                PITTS MODEL 12                 0.000000   \n",
      "1977 Colfer-chan         STEEN SKYBOLT                  0.647855   \n",
      "1st Ftr Gp               FOCKE-WULF 190                 1.000000   \n",
      "\n",
      "                                            Total.Serious.Injuries  \\\n",
      "Make                     Model                                       \n",
      "107.5 Flying Corporation One Design DR 107                0.279881   \n",
      "1200                     G103                             1.000000   \n",
      "177MF LLC                PITTS MODEL 12                   2.000000   \n",
      "1977 Colfer-chan         STEEN SKYBOLT                    0.279881   \n",
      "1st Ftr Gp               FOCKE-WULF 190                   0.000000   \n",
      "\n",
      "                                            Total.Minor.Injuries  \\\n",
      "Make                     Model                                     \n",
      "107.5 Flying Corporation One Design DR 107              0.357061   \n",
      "1200                     G103                           0.357061   \n",
      "177MF LLC                PITTS MODEL 12                 0.000000   \n",
      "1977 Colfer-chan         STEEN SKYBOLT                  1.000000   \n",
      "1st Ftr Gp               FOCKE-WULF 190                 0.000000   \n",
      "\n",
      "                                            Total.Uninjured  Total_Injuries  \n",
      "Make                     Model                                               \n",
      "107.5 Flying Corporation One Design DR 107          5.32544        1.636942  \n",
      "1200                     G103                       5.32544        2.004916  \n",
      "177MF LLC                PITTS MODEL 12             0.00000        2.000000  \n",
      "1977 Colfer-chan         STEEN SKYBOLT              5.32544        1.927736  \n",
      "1st Ftr Gp               FOCKE-WULF 190             0.00000        1.000000  \n"
     ]
    }
   ],
   "source": [
    "# For instance, you could group data by aircraft make and model, and compute average injury counts\n",
    "\n",
    "# Example:\n",
    "safety_records = aircraft_data.groupby(['Make', 'Model']).mean().head()\n",
    "\n",
    "# Display the results\n",
    "print(safety_records)\n"
   ]
  },
  {
   "cell_type": "markdown",
   "metadata": {},
   "source": [
    "\n"
   ]
  },
  {
   "cell_type": "markdown",
   "metadata": {},
   "source": [
    "##Based on the findings from the analysis of the Aviation Accident Database & Synopses, \n",
    "here's how we can identify aircraft with proven safety records:\n",
    "\n",
    "Criteria for Identifying Aircrafts with Proven Safety Records:\n",
    "    \n",
    "Single or Zero Engine Aircrafts:\n",
    "Aircraft models like One Design DR 107 and PITTS MODEL 12, which have 1 engine, show lower total\n",
    "injuries (including fatal, serious, and minor injuries) and higher rates of uninjured occupants.\n",
    "Recommendation: Prioritize single-engine or zero-engine aircraft models for their demonstrated \n",
    "    safety performance in reducing overall injury rates.\n",
    "    \n",
    "Low Injury Severity:\n",
    "Despite variations in engine count, models like One Design DR 107 consistently exhibit lower\n",
    "injury severity metrics (total fatal, serious, and minor injuries).\n",
    "Recommendation: Focus on aircraft models with consistently low injury severity metrics across \n",
    "    different accident scenarios.\n",
    "    \n",
    "    \n",
    "Comprehensive Safety Metrics:\n",
    "Consider aircraft models that not only have low total injuries but also demonstrate effective injury\n",
    "mitigation strategies, such as robust design features and operational safety protocols.\n",
    "Recommendation: Evaluate aircraft based on comprehensive safety metrics that go beyond just engine \n",
    "    count, including injury severity breakdown and rates of uninjured occupants.\n",
    "    \n",
    "    \n",
    "Conclusion:\n",
    "Based on the analysis, aircrafts with proven safety records can be identified by their performance\n",
    "in reducing total injuries and severity across various accident scenarios. Single-engine or \n",
    "zero-engine aircrafts tend to show better safety outcomes, but it's essential to consider a holistic view of safety metrics to make informed decisions.\n",
    "\n",
    "By leveraging these criteria, stakeholders can prioritize investments and operations in aircraft\n",
    "models that uphold high safety standards, thereby enhancing overall aviation safety and reliability.\n",
    "\n",
    "\n",
    "\n",
    "\n",
    "\n"
   ]
  },
  {
   "cell_type": "code",
   "execution_count": null,
   "metadata": {},
   "outputs": [],
   "source": []
  },
  {
   "cell_type": "code",
   "execution_count": null,
   "metadata": {},
   "outputs": [],
   "source": []
  },
  {
   "cell_type": "code",
   "execution_count": null,
   "metadata": {},
   "outputs": [],
   "source": []
  },
  {
   "cell_type": "code",
   "execution_count": null,
   "metadata": {},
   "outputs": [],
   "source": []
  },
  {
   "cell_type": "code",
   "execution_count": null,
   "metadata": {},
   "outputs": [],
   "source": []
  },
  {
   "cell_type": "code",
   "execution_count": null,
   "metadata": {},
   "outputs": [],
   "source": []
  },
  {
   "cell_type": "code",
   "execution_count": null,
   "metadata": {},
   "outputs": [],
   "source": []
  },
  {
   "cell_type": "code",
   "execution_count": null,
   "metadata": {},
   "outputs": [],
   "source": []
  },
  {
   "cell_type": "code",
   "execution_count": null,
   "metadata": {},
   "outputs": [],
   "source": []
  },
  {
   "cell_type": "markdown",
   "metadata": {},
   "source": [
    "### 2. Prioritize Aircraft with Low Maintenance and Operational Costs"
   ]
  },
  {
   "cell_type": "markdown",
   "metadata": {},
   "source": [
    "For a new business, it is important to consider aircraft with low maintenance and operational costs\n",
    "for the sake of the company's profits and overall financial health. Lower maintenance costs can lead\n",
    "to significant savings over time, reducing the total cost of ownership and increasing the return on\n",
    "investment. Operational costs, including fuel efficiency and routine service expenses, directly\n",
    "impact the day-to-day expenses of running an aviation business"
   ]
  },
  {
   "cell_type": "markdown",
   "metadata": {},
   "source": [
    "To analyze which aircraft have low maintenance and operational costs, we should focus on columns \n",
    "that provide information about the aircraft’s make and model, engine type, number of engines, and\n",
    "other relevant characteristics."
   ]
  },
  {
   "cell_type": "code",
   "execution_count": 151,
   "metadata": {},
   "outputs": [
    {
     "data": {
      "text/html": [
       "<div>\n",
       "<style scoped>\n",
       "    .dataframe tbody tr th:only-of-type {\n",
       "        vertical-align: middle;\n",
       "    }\n",
       "\n",
       "    .dataframe tbody tr th {\n",
       "        vertical-align: top;\n",
       "    }\n",
       "\n",
       "    .dataframe thead th {\n",
       "        text-align: right;\n",
       "    }\n",
       "</style>\n",
       "<table border=\"1\" class=\"dataframe\">\n",
       "  <thead>\n",
       "    <tr style=\"text-align: right;\">\n",
       "      <th></th>\n",
       "      <th>Make</th>\n",
       "      <th>Model</th>\n",
       "      <th>Number.of.Engines</th>\n",
       "      <th>Engine.Type</th>\n",
       "      <th>Aircraft.damage</th>\n",
       "      <th>Purpose.of.flight</th>\n",
       "    </tr>\n",
       "  </thead>\n",
       "  <tbody>\n",
       "    <tr>\n",
       "      <th>0</th>\n",
       "      <td>Stinson</td>\n",
       "      <td>108-3</td>\n",
       "      <td>1.0</td>\n",
       "      <td>Reciprocating</td>\n",
       "      <td>Destroyed</td>\n",
       "      <td>Personal</td>\n",
       "    </tr>\n",
       "    <tr>\n",
       "      <th>1</th>\n",
       "      <td>Piper</td>\n",
       "      <td>PA24-180</td>\n",
       "      <td>1.0</td>\n",
       "      <td>Reciprocating</td>\n",
       "      <td>Destroyed</td>\n",
       "      <td>Personal</td>\n",
       "    </tr>\n",
       "    <tr>\n",
       "      <th>2</th>\n",
       "      <td>Cessna</td>\n",
       "      <td>172M</td>\n",
       "      <td>1.0</td>\n",
       "      <td>Reciprocating</td>\n",
       "      <td>Destroyed</td>\n",
       "      <td>Personal</td>\n",
       "    </tr>\n",
       "    <tr>\n",
       "      <th>3</th>\n",
       "      <td>Rockwell</td>\n",
       "      <td>112</td>\n",
       "      <td>1.0</td>\n",
       "      <td>Reciprocating</td>\n",
       "      <td>Destroyed</td>\n",
       "      <td>Personal</td>\n",
       "    </tr>\n",
       "    <tr>\n",
       "      <th>4</th>\n",
       "      <td>Cessna</td>\n",
       "      <td>501</td>\n",
       "      <td>NaN</td>\n",
       "      <td>NaN</td>\n",
       "      <td>Destroyed</td>\n",
       "      <td>Personal</td>\n",
       "    </tr>\n",
       "    <tr>\n",
       "      <th>...</th>\n",
       "      <td>...</td>\n",
       "      <td>...</td>\n",
       "      <td>...</td>\n",
       "      <td>...</td>\n",
       "      <td>...</td>\n",
       "      <td>...</td>\n",
       "    </tr>\n",
       "    <tr>\n",
       "      <th>88884</th>\n",
       "      <td>PIPER</td>\n",
       "      <td>PA-28-151</td>\n",
       "      <td>NaN</td>\n",
       "      <td>NaN</td>\n",
       "      <td>NaN</td>\n",
       "      <td>Personal</td>\n",
       "    </tr>\n",
       "    <tr>\n",
       "      <th>88885</th>\n",
       "      <td>BELLANCA</td>\n",
       "      <td>7ECA</td>\n",
       "      <td>NaN</td>\n",
       "      <td>NaN</td>\n",
       "      <td>NaN</td>\n",
       "      <td>NaN</td>\n",
       "    </tr>\n",
       "    <tr>\n",
       "      <th>88886</th>\n",
       "      <td>AMERICAN CHAMPION AIRCRAFT</td>\n",
       "      <td>8GCBC</td>\n",
       "      <td>1.0</td>\n",
       "      <td>NaN</td>\n",
       "      <td>Substantial</td>\n",
       "      <td>Personal</td>\n",
       "    </tr>\n",
       "    <tr>\n",
       "      <th>88887</th>\n",
       "      <td>CESSNA</td>\n",
       "      <td>210N</td>\n",
       "      <td>NaN</td>\n",
       "      <td>NaN</td>\n",
       "      <td>NaN</td>\n",
       "      <td>Personal</td>\n",
       "    </tr>\n",
       "    <tr>\n",
       "      <th>88888</th>\n",
       "      <td>PIPER</td>\n",
       "      <td>PA-24-260</td>\n",
       "      <td>NaN</td>\n",
       "      <td>NaN</td>\n",
       "      <td>NaN</td>\n",
       "      <td>Personal</td>\n",
       "    </tr>\n",
       "  </tbody>\n",
       "</table>\n",
       "<p>88889 rows × 6 columns</p>\n",
       "</div>"
      ],
      "text/plain": [
       "                             Make      Model  Number.of.Engines  \\\n",
       "0                         Stinson      108-3                1.0   \n",
       "1                           Piper   PA24-180                1.0   \n",
       "2                          Cessna       172M                1.0   \n",
       "3                        Rockwell        112                1.0   \n",
       "4                          Cessna        501                NaN   \n",
       "...                           ...        ...                ...   \n",
       "88884                       PIPER  PA-28-151                NaN   \n",
       "88885                    BELLANCA       7ECA                NaN   \n",
       "88886  AMERICAN CHAMPION AIRCRAFT      8GCBC                1.0   \n",
       "88887                      CESSNA       210N                NaN   \n",
       "88888                       PIPER  PA-24-260                NaN   \n",
       "\n",
       "         Engine.Type Aircraft.damage Purpose.of.flight  \n",
       "0      Reciprocating       Destroyed          Personal  \n",
       "1      Reciprocating       Destroyed          Personal  \n",
       "2      Reciprocating       Destroyed          Personal  \n",
       "3      Reciprocating       Destroyed          Personal  \n",
       "4                NaN       Destroyed          Personal  \n",
       "...              ...             ...               ...  \n",
       "88884            NaN             NaN          Personal  \n",
       "88885            NaN             NaN               NaN  \n",
       "88886            NaN     Substantial          Personal  \n",
       "88887            NaN             NaN          Personal  \n",
       "88888            NaN             NaN          Personal  \n",
       "\n",
       "[88889 rows x 6 columns]"
      ]
     },
     "execution_count": 151,
     "metadata": {},
     "output_type": "execute_result"
    }
   ],
   "source": [
    "#selecting relevant columns\n",
    "columns_of_interest = [\n",
    "    'Make', 'Model', 'Number.of.Engines', 'Engine.Type','Aircraft.damage', 'Purpose.of.flight'\n",
    "]\n",
    "\n",
    "df_selected = df[columns_of_interest]\n",
    "df_selected"
   ]
  },
  {
   "cell_type": "code",
   "execution_count": 152,
   "metadata": {},
   "outputs": [
    {
     "name": "stdout",
     "output_type": "stream",
     "text": [
      "<class 'pandas.core.frame.DataFrame'>\n",
      "RangeIndex: 88889 entries, 0 to 88888\n",
      "Data columns (total 6 columns):\n",
      " #   Column             Non-Null Count  Dtype  \n",
      "---  ------             --------------  -----  \n",
      " 0   Make               88826 non-null  object \n",
      " 1   Model              88797 non-null  object \n",
      " 2   Number.of.Engines  82805 non-null  float64\n",
      " 3   Engine.Type        81812 non-null  object \n",
      " 4   Aircraft.damage    85695 non-null  object \n",
      " 5   Purpose.of.flight  82697 non-null  object \n",
      "dtypes: float64(1), object(5)\n",
      "memory usage: 4.1+ MB\n",
      "None\n",
      "       Make     Model  Number.of.Engines    Engine.Type Aircraft.damage  \\\n",
      "0   Stinson     108-3                1.0  Reciprocating       Destroyed   \n",
      "1     Piper  PA24-180                1.0  Reciprocating       Destroyed   \n",
      "2    Cessna      172M                1.0  Reciprocating       Destroyed   \n",
      "3  Rockwell       112                1.0  Reciprocating       Destroyed   \n",
      "4    Cessna       501                NaN            NaN       Destroyed   \n",
      "\n",
      "  Purpose.of.flight  \n",
      "0          Personal  \n",
      "1          Personal  \n",
      "2          Personal  \n",
      "3          Personal  \n",
      "4          Personal  \n"
     ]
    }
   ],
   "source": [
    "## Display basic information\n",
    "print(df_selected.info())\n",
    "print(df_selected.head())"
   ]
  },
  {
   "cell_type": "code",
   "execution_count": 153,
   "metadata": {},
   "outputs": [
    {
     "name": "stdout",
     "output_type": "stream",
     "text": [
      "Make                   63\n",
      "Model                  92\n",
      "Number.of.Engines    6084\n",
      "Engine.Type          7077\n",
      "Aircraft.damage      3194\n",
      "Purpose.of.flight    6192\n",
      "dtype: int64\n"
     ]
    }
   ],
   "source": [
    "#checking for the number of misssing values in the columns\n",
    "print(df_selected.isnull().sum())\n"
   ]
  },
  {
   "cell_type": "code",
   "execution_count": 145,
   "metadata": {},
   "outputs": [
    {
     "name": "stderr",
     "output_type": "stream",
     "text": [
      "C:\\Users\\Lenovo\\anaconda3\\envs\\learn-env\\lib\\site-packages\\pandas\\core\\frame.py:4317: SettingWithCopyWarning: \n",
      "A value is trying to be set on a copy of a slice from a DataFrame\n",
      "\n",
      "See the caveats in the documentation: https://pandas.pydata.org/pandas-docs/stable/user_guide/indexing.html#returning-a-view-versus-a-copy\n",
      "  return super().fillna(\n"
     ]
    }
   ],
   "source": []
  },
  {
   "cell_type": "markdown",
   "metadata": {},
   "source": [
    "Since there are a few missing values in the selected columns, the number of missing values is much \n",
    "less than the number of data available. We will therefore replace the missing values instead of \n",
    "dropping the the columns"
   ]
  },
  {
   "cell_type": "code",
   "execution_count": 157,
   "metadata": {},
   "outputs": [
    {
     "name": "stderr",
     "output_type": "stream",
     "text": [
      "C:\\Users\\Lenovo\\anaconda3\\envs\\learn-env\\lib\\site-packages\\pandas\\core\\frame.py:4317: SettingWithCopyWarning: \n",
      "A value is trying to be set on a copy of a slice from a DataFrame\n",
      "\n",
      "See the caveats in the documentation: https://pandas.pydata.org/pandas-docs/stable/user_guide/indexing.html#returning-a-view-versus-a-copy\n",
      "  return super().fillna(\n"
     ]
    }
   ],
   "source": [
    "# Fill or drop missing values as appropriate\n",
    "df_selected.fillna('Unknown', inplace=True)"
   ]
  },
  {
   "cell_type": "markdown",
   "metadata": {},
   "source": [
    "### Descriptive Analysis: \n",
    "\n",
    "Analyze the distribution of aircraft makes and models, and their associated maintenance indicators."
   ]
  },
  {
   "cell_type": "code",
   "execution_count": 158,
   "metadata": {},
   "outputs": [
    {
     "name": "stdout",
     "output_type": "stream",
     "text": [
      "         Make      Model  Count\n",
      "5755   Cessna        152   2168\n",
      "5777   Cessna        172   1254\n",
      "5821   Cessna       172N    996\n",
      "15099   Piper  PA-28-140    812\n",
      "5730   Cessna        150    716\n",
      "Reciprocating      69530\n",
      "Unknown             9128\n",
      "Turbo Shaft         3609\n",
      "Turbo Prop          3391\n",
      "Turbo Fan           2481\n",
      "Turbo Jet            703\n",
      "None                  19\n",
      "Geared Turbofan       12\n",
      "Electric              10\n",
      "NONE                   2\n",
      "LR                     2\n",
      "UNK                    1\n",
      "Hybrid Rocket          1\n",
      "Name: Engine.Type, dtype: int64\n"
     ]
    }
   ],
   "source": [
    "# Count occurrences of each Make and Model\n",
    "make_model_distribution = df_selected.groupby(['Make', 'Model']).size().reset_index(name='Count')\n",
    "print(make_model_distribution.sort_values(by='Count', ascending=False).head())\n",
    "\n",
    "# Distribution of Engine Types\n",
    "engine_type_distribution = df_selected['Engine.Type'].value_counts()\n",
    "print(engine_type_distribution)"
   ]
  },
  {
   "cell_type": "markdown",
   "metadata": {},
   "source": [
    "### Cost Analysis: \n",
    "    \n",
    "Analyze potential maintenance costs based on aircraft damage data."
   ]
  },
  {
   "cell_type": "code",
   "execution_count": 159,
   "metadata": {},
   "outputs": [
    {
     "name": "stdout",
     "output_type": "stream",
     "text": [
      "Substantial    64148\n",
      "Destroyed      18623\n",
      "Unknown         3313\n",
      "Minor           2805\n",
      "Name: Aircraft.damage, dtype: int64\n"
     ]
    }
   ],
   "source": [
    "# Analyze aircraft damage\n",
    "aircraft_damage_distribution = df_selected['Aircraft.damage'].value_counts()\n",
    "print(aircraft_damage_distribution)"
   ]
  },
  {
   "cell_type": "markdown",
   "metadata": {},
   "source": [
    "### Visualize Findings: \n",
    "    \n",
    "Use visualizations to help identify patterns and insights."
   ]
  },
  {
   "cell_type": "code",
   "execution_count": null,
   "metadata": {},
   "outputs": [],
   "source": [
    "import matplotlib.pyplot as plt\n",
    "\n",
    "# Plot the distribution of makes and models\n",
    "plt.figure(figsize=(12, 8))\n",
    "make_model_distribution.plot(kind='bar', x='Make', y='Count')\n",
    "plt.title('Distribution of Aircraft Makes and Models')\n",
    "plt.xlabel('Make and Model')\n",
    "plt.ylabel('Number of Aircraft')\n",
    "plt.show()\n",
    "\n",
    "# Plot the distribution of engine types\n",
    "engine_type_distribution.plot(kind='bar', figsize=(10, 6))\n",
    "plt.title('Distribution of Engine Types')\n",
    "plt.xlabel('Engine Type')\n",
    "plt.ylabel('Number of Aircraft')\n",
    "plt.show()"
   ]
  },
  {
   "cell_type": "markdown",
   "metadata": {},
   "source": [
    "### 3. Choose Aircraft with High Fuel Efficiency"
   ]
  },
  {
   "cell_type": "markdown",
   "metadata": {},
   "source": [
    "#### 3a.Consider Fuel Efficiency and Operational Costs\n",
    "\n",
    "Analyzing fuel efficiency and operational costs is crucial for determining the long-term viability \n",
    "and profitability of the aircraft. This involves examining various factors such as the number of\n",
    "engines, engine type, and purpose of the flight. These factors can provide insights into the fuel \n",
    "consumption, maintenance needs, and overall operational costs."
   ]
  },
  {
   "cell_type": "code",
   "execution_count": 152,
   "metadata": {},
   "outputs": [],
   "source": [
    "# Select relevant columns\n",
    "columns_of_interest = ['Make', 'Model', 'Number.of.Engines', 'Engine.Type', 'Purpose.of.flight']\n",
    "df_selected = df[columns_of_interest]"
   ]
  },
  {
   "cell_type": "code",
   "execution_count": 153,
   "metadata": {},
   "outputs": [],
   "source": [
    "# Fill missing values in key columns with 'Unknown' or appropriate default values\n",
    "df['Number.of.Engines'].fillna(0, inplace=True)\n",
    "df['Engine.Type'].fillna('Unknown', inplace=True)\n",
    "df['Purpose.of.flight'].fillna('Unknown', inplace=True)"
   ]
  },
  {
   "cell_type": "code",
   "execution_count": null,
   "metadata": {},
   "outputs": [],
   "source": []
  },
  {
   "cell_type": "code",
   "execution_count": null,
   "metadata": {},
   "outputs": [],
   "source": [
    "# Data Cleaning\n",
    "df_selected.fillna('Unknown', inplace=True)"
   ]
  },
  {
   "cell_type": "markdown",
   "metadata": {},
   "source": [
    "#### Descriptive Statistics\n",
    "\n",
    "Get an overview of the distribution of key columns to understand their characteristics."
   ]
  },
  {
   "cell_type": "code",
   "execution_count": 154,
   "metadata": {},
   "outputs": [
    {
     "name": "stdout",
     "output_type": "stream",
     "text": [
      "count    88889.000000\n",
      "mean         1.068107\n",
      "std          0.519181\n",
      "min          0.000000\n",
      "25%          1.000000\n",
      "50%          1.000000\n",
      "75%          1.000000\n",
      "max          8.000000\n",
      "Name: Number.of.Engines, dtype: float64\n",
      "Reciprocating      69530\n",
      "Unknown             9128\n",
      "Turbo Shaft         3609\n",
      "Turbo Prop          3391\n",
      "Turbo Fan           2481\n",
      "Turbo Jet            703\n",
      "None                  19\n",
      "Geared Turbofan       12\n",
      "Electric              10\n",
      "LR                     2\n",
      "NONE                   2\n",
      "Hybrid Rocket          1\n",
      "UNK                    1\n",
      "Name: Engine.Type, dtype: int64\n",
      "Personal                     49448\n",
      "Unknown                      12994\n",
      "Instructional                10601\n",
      "Aerial Application            4712\n",
      "Business                      4018\n",
      "Positioning                   1646\n",
      "Other Work Use                1264\n",
      "Ferry                          812\n",
      "Aerial Observation             794\n",
      "Public Aircraft                720\n",
      "Executive/corporate            553\n",
      "Flight Test                    405\n",
      "Skydiving                      182\n",
      "External Load                  123\n",
      "Public Aircraft - Federal      105\n",
      "Banner Tow                     101\n",
      "Air Race show                   99\n",
      "Public Aircraft - Local         74\n",
      "Public Aircraft - State         64\n",
      "Air Race/show                   59\n",
      "Glider Tow                      53\n",
      "Firefighting                    40\n",
      "Air Drop                        11\n",
      "ASHO                             6\n",
      "PUBS                             4\n",
      "PUBL                             1\n",
      "Name: Purpose.of.flight, dtype: int64\n"
     ]
    }
   ],
   "source": [
    "# Descriptive statistics for 'Number.of.Engines'\n",
    "print(df['Number.of.Engines'].describe())\n",
    "\n",
    "# Value counts for 'Engine.Type'\n",
    "print(df['Engine.Type'].value_counts())\n",
    "\n",
    "# Value counts for 'Purpose.of.flight'\n",
    "print(df['Purpose.of.flight'].value_counts())"
   ]
  },
  {
   "cell_type": "markdown",
   "metadata": {},
   "source": [
    "#### Fuel Efficiency Analysis\n",
    "\n",
    "Analyze fuel efficiency based on the number of engines and engine type.\n",
    "\n",
    "python\n"
   ]
  },
  {
   "cell_type": "code",
   "execution_count": 155,
   "metadata": {},
   "outputs": [
    {
     "data": {
      "image/png": "[encoded data removed]",
      "text/plain": [
       "<Figure size 1008x504 with 1 Axes>"
      ]
     },
     "metadata": {
      "needs_background": "light"
     },
     "output_type": "display_data"
    },
    {
     "data": {
      "image/png": "[encoded data removed]",
      "text/plain": [
       "<Figure size 1008x504 with 1 Axes>"
      ]
     },
     "metadata": {
      "needs_background": "light"
     },
     "output_type": "display_data"
    }
   ],
   "source": [
    " #Distribution of Makes and Models\n",
    "plt.figure(figsize=(14, 7))\n",
    "sns.countplot(y='Make', data=df_selected, order=df_selected['Make'].value_counts().iloc[:10].index)\n",
    "plt.title('Top 10 Aircraft Makes')\n",
    "plt.show()\n",
    "\n",
    "plt.figure(figsize=(14, 7))\n",
    "sns.countplot(y='Model', data=df_selected, order=df_selected['Model'].value_counts().iloc[:10].index)\n",
    "plt.title('Top 10 Aircraft Models')\n",
    "plt.show()\n"
   ]
  },
  {
   "cell_type": "code",
   "execution_count": 156,
   "metadata": {},
   "outputs": [
    {
     "data": {
      "image/png": "[encoded data removed]",
      "text/plain": [
       "<Figure size 720x360 with 1 Axes>"
      ]
     },
     "metadata": {
      "needs_background": "light"
     },
     "output_type": "display_data"
    },
    {
     "data": {
      "image/png": "[encoded data removed]",
      "text/plain": [
       "<Figure size 720x360 with 1 Axes>"
      ]
     },
     "metadata": {
      "needs_background": "light"
     },
     "output_type": "display_data"
    }
   ],
   "source": [
    "# Distribution of Engine Types and Number of Engines\n",
    "plt.figure(figsize=(10, 5))\n",
    "sns.countplot(x='Engine.Type', data=df_selected)\n",
    "plt.title('Distribution of Engine Types')\n",
    "plt.show()\n",
    "\n",
    "plt.figure(figsize=(10, 5))\n",
    "sns.countplot(x='Number.of.Engines', data=df_selected)\n",
    "plt.title('Distribution of Number of Engines')\n",
    "plt.show()\n"
   ]
  },
  {
   "cell_type": "code",
   "execution_count": 157,
   "metadata": {},
   "outputs": [
    {
     "name": "stdout",
     "output_type": "stream",
     "text": [
      "Engine.Type\n",
      "Electric              10\n",
      "Geared Turbofan       12\n",
      "Hybrid Rocket          1\n",
      "LR                     2\n",
      "NONE                   2\n",
      "None                  19\n",
      "Reciprocating      69530\n",
      "Turbo Fan           2481\n",
      "Turbo Jet            703\n",
      "Turbo Prop          3391\n",
      "Turbo Shaft         3609\n",
      "UNK                    1\n",
      "Unknown             2051\n",
      "dtype: int64\n"
     ]
    }
   ],
   "source": [
    "# Comparative Analysis\n",
    "engine_type_vs_cost = df_selected.groupby('Engine.Type').size()\n",
    "print(engine_type_vs_cost)\n"
   ]
  },
  {
   "cell_type": "code",
   "execution_count": 159,
   "metadata": {},
   "outputs": [
    {
     "data": {
      "image/png": "[encoded data removed]",
      "text/plain": [
       "<Figure size 432x288 with 2 Axes>"
      ]
     },
     "metadata": {
      "needs_background": "light"
     },
     "output_type": "display_data"
    }
   ],
   "source": [
    "# Correlation Analysis\n",
    "corr_matrix = df_selected.corr()\n",
    "sns.heatmap(corr_matrix, annot=True, cmap='coolwarm')\n",
    "plt.title('Correlation Matrix')\n",
    "plt.show()"
   ]
  },
  {
   "cell_type": "code",
   "execution_count": null,
   "metadata": {},
   "outputs": [],
   "source": []
  }
 ],
 "metadata": {
  "kernelspec": {
   "display_name": "Python (learn-env)",
   "language": "python",
   "name": "learn-env"
  },
  "language_info": {
   "codemirror_mode": {
    "name": "ipython",
    "version": 3
   },
   "file_extension": ".py",
   "mimetype": "text/x-python",
   "name": "python",
   "nbconvert_exporter": "python",
   "pygments_lexer": "ipython3",
   "version": "3.8.5"
  }
 },
 "nbformat": 4,
 "nbformat_minor": 4
}
